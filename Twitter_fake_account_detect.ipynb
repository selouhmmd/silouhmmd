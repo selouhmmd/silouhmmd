{
  "nbformat": 4,
  "nbformat_minor": 0,
  "metadata": {
    "colab": {
      "provenance": [],
      "collapsed_sections": [
        "UVhE42NwFCGf",
        "A0SKjdleFoEu",
        "AeR4ZfudLXpk"
      ],
      "authorship_tag": "ABX9TyM5HBZDsPoTgCPbNVxv00QV",
      "include_colab_link": true
    },
    "kernelspec": {
      "name": "python3",
      "display_name": "Python 3"
    },
    "language_info": {
      "name": "python"
    },
    "accelerator": "TPU",
    "gpuClass": "standard"
  },
  "cells": [
    {
      "cell_type": "markdown",
      "metadata": {
        "id": "view-in-github",
        "colab_type": "text"
      },
      "source": [
        "<a href=\"https://colab.research.google.com/github/selouhmmd/silouhmmd/blob/master/Twitter_fake_account_detect.ipynb\" target=\"_parent\"><img src=\"https://colab.research.google.com/assets/colab-badge.svg\" alt=\"Open In Colab\"/></a>"
      ]
    },
    {
      "cell_type": "markdown",
      "source": [
        "**Twitter Fake Account Detection**"
      ],
      "metadata": {
        "id": "CjF_1gP1Ag0M"
      }
    },
    {
      "cell_type": "markdown",
      "source": [
        "**Problem Difinition**\n",
        "> Given an account , the model will classify it as fake or real account\n",
        "\n",
        "**Discibe the Dataset**\n",
        "> The dataset contains 501 fake account and 499 real account ,the number is approximative to balance the number of data in each class , Each account is described with 16 feature.\n",
        "\n",
        " *  **Description**: Length of the user defined string describing the account \n",
        " *  **Protected**:When true indicates that this user has chosen to protect their Tweets .\n",
        " * **followers_count** :The number of followers this account currently has.\n",
        " * **friends_count** : The number of users this account is following \n",
        " *  **statuses_count**: The number of Tweets (including retweets)issued by the user.\n",
        " *  **favorites_count**: The number of Tweets this user has \n",
        "liked in the account’s lifetime.\n",
        " *  **listed_count** : The number of public lists that this \n",
        "user is a member of. \n",
        " *  **Verified** :When true, indicates that the user has a verified account \n",
        " *  **profile_use_backgroung_image**: When true, indicates the user wants their uploaded background image to be used \n",
        " *  **contributors_enabled**: Indicates that the user has an \n",
        "account with “contributor mode” \n",
        "enabled, allowing for Tweets \n",
        "issued by the user to be co-authored by another account.\n",
        " *  **default_profile** : When true, indicates that the user \n",
        "has not altered the theme or \n",
        "background of their user profile\n",
        " *  **default_profile_image** : When true, indicates that the user \n",
        "has not uploaded their own profile \n",
        "image and a default image is used \n",
        "instead \n",
        " *  **is_translator** : When true, indicates that the user is a participant in Twitter’s ranslator \n",
        "community \n",
        " *  **hashtags_average** : Number of hashtags that user has used in last 20 tweets \n",
        " *  **mentions_average**: Number of mentions that user has used in last 20 tweets\n",
        " *  **urls_average**: Number of URL links that user has used in last 20 tweets \n",
        "  \n"
      ],
      "metadata": {
        "id": "R4M2JmKsAv8X"
      }
    },
    {
      "cell_type": "markdown",
      "source": [
        "#Loading Libraries"
      ],
      "metadata": {
        "id": "UVhE42NwFCGf"
      }
    },
    {
      "cell_type": "code",
      "source": [
        "%matplotlib inline\n",
        "import os\n",
        "print(os.listdir())\n",
        "\n",
        "\n",
        "import warnings\n",
        "warnings.filterwarnings('ignore')\n",
        "\n",
        "#loading dataset\n",
        "import numpy as np\n",
        "import pandas as pd\n",
        "\n",
        "#visualisation\n",
        "import matplotlib.pyplot as plt\n",
        "import seaborn as sns\n",
        "#import scikitplot as skplt\n",
        "\n",
        "#data preprocessing\n",
        "from sklearn.preprocessing import LabelEncoder\n",
        "from sklearn.preprocessing import StandardScaler\n",
        "\n",
        "#data splitting\n",
        "from sklearn.model_selection import train_test_split\n",
        "from sklearn.model_selection import GridSearchCV\n",
        "\n",
        "#data modeling\n",
        "from sklearn.svm import SVC\n",
        "from sklearn.ensemble import RandomForestClassifier\n",
        "\n",
        "\n",
        "#model evaluation\n",
        "from sklearn.metrics import make_scorer, f1_score, accuracy_score, confusion_matrix, classification_report\n",
        "from sklearn.metrics import roc_curve, roc_auc_score"
      ],
      "metadata": {
        "colab": {
          "base_uri": "https://localhost:8080/"
        },
        "id": "4HcROAsKFaFu",
        "outputId": "82cc49a0-f23e-4dc0-ceaa-a362d47284e9"
      },
      "execution_count": 26,
      "outputs": [
        {
          "output_type": "stream",
          "name": "stdout",
          "text": [
            "['.config', 'data.csv', 'sample_data']\n"
          ]
        }
      ]
    },
    {
      "cell_type": "markdown",
      "source": [
        "#Loading Data"
      ],
      "metadata": {
        "id": "A0SKjdleFoEu"
      }
    },
    {
      "cell_type": "code",
      "source": [
        "accounts = pd.read_csv(r'data.csv')\n",
        "accounts.info()"
      ],
      "metadata": {
        "colab": {
          "base_uri": "https://localhost:8080/"
        },
        "id": "Z4_cmrCHFsP3",
        "outputId": "d88e1866-1560-46c7-c599-6cdf0f72b1c8"
      },
      "execution_count": 27,
      "outputs": [
        {
          "output_type": "stream",
          "name": "stdout",
          "text": [
            "<class 'pandas.core.frame.DataFrame'>\n",
            "RangeIndex: 1000 entries, 0 to 999\n",
            "Data columns (total 18 columns):\n",
            " #   Column                          Non-Null Count  Dtype  \n",
            "---  ------                          --------------  -----  \n",
            " 0   id                              1000 non-null   int64  \n",
            " 1   'protected'                     1000 non-null   bool   \n",
            " 2   'followers_count'               1000 non-null   int64  \n",
            " 3   'friends_count'                 1000 non-null   int64  \n",
            " 4   'favourites_count'              1000 non-null   int64  \n",
            " 5   'profile_use_background_image'  1000 non-null   bool   \n",
            " 6   'hashtags_average'              1000 non-null   float64\n",
            " 7   'mentions_average'              1000 non-null   float64\n",
            " 8   'urls_average'                  1000 non-null   float64\n",
            " 9   'description'                   1000 non-null   int64  \n",
            " 10  'statuses_count'                1000 non-null   int64  \n",
            " 11  'listed_count'                  1000 non-null   int64  \n",
            " 12  'verified'                      1000 non-null   bool   \n",
            " 13  'contributors_enabled'          1000 non-null   bool   \n",
            " 14  'default_profile'               1000 non-null   bool   \n",
            " 15  'default_profile_image'         1000 non-null   bool   \n",
            " 16  'is_translator'                 1000 non-null   bool   \n",
            " 17  'is_fake'                       1000 non-null   bool   \n",
            "dtypes: bool(8), float64(3), int64(7)\n",
            "memory usage: 86.1 KB\n"
          ]
        }
      ]
    },
    {
      "cell_type": "markdown",
      "source": [
        "the dataset contains 1000 row , each row has 16 columns (feature) , it consists of 8 boolean value , 3 float value , 7 int valus , it has no null values."
      ],
      "metadata": {
        "id": "1LL7n0MfF0ED"
      }
    },
    {
      "cell_type": "code",
      "source": [
        "accounts.duplicated().any()\n",
        "dup = accounts.duplicated()\n",
        "accounts[dup]"
      ],
      "metadata": {
        "colab": {
          "base_uri": "https://localhost:8080/",
          "height": 0
        },
        "id": "LOUyN-gQGRLT",
        "outputId": "ab01123f-0659-4f0e-bb68-5b6165b528c3"
      },
      "execution_count": 28,
      "outputs": [
        {
          "output_type": "execute_result",
          "data": {
            "text/plain": [
              "Empty DataFrame\n",
              "Columns: [id, 'protected', 'followers_count', 'friends_count', 'favourites_count', 'profile_use_background_image', 'hashtags_average', 'mentions_average', 'urls_average', 'description', 'statuses_count', 'listed_count', 'verified', 'contributors_enabled', 'default_profile', 'default_profile_image', 'is_translator', 'is_fake']\n",
              "Index: []"
            ],
            "text/html": [
              "\n",
              "  <div id=\"df-565328a4-1212-40f0-8395-ae4fc8376750\">\n",
              "    <div class=\"colab-df-container\">\n",
              "      <div>\n",
              "<style scoped>\n",
              "    .dataframe tbody tr th:only-of-type {\n",
              "        vertical-align: middle;\n",
              "    }\n",
              "\n",
              "    .dataframe tbody tr th {\n",
              "        vertical-align: top;\n",
              "    }\n",
              "\n",
              "    .dataframe thead th {\n",
              "        text-align: right;\n",
              "    }\n",
              "</style>\n",
              "<table border=\"1\" class=\"dataframe\">\n",
              "  <thead>\n",
              "    <tr style=\"text-align: right;\">\n",
              "      <th></th>\n",
              "      <th>id</th>\n",
              "      <th>'protected'</th>\n",
              "      <th>'followers_count'</th>\n",
              "      <th>'friends_count'</th>\n",
              "      <th>'favourites_count'</th>\n",
              "      <th>'profile_use_background_image'</th>\n",
              "      <th>'hashtags_average'</th>\n",
              "      <th>'mentions_average'</th>\n",
              "      <th>'urls_average'</th>\n",
              "      <th>'description'</th>\n",
              "      <th>'statuses_count'</th>\n",
              "      <th>'listed_count'</th>\n",
              "      <th>'verified'</th>\n",
              "      <th>'contributors_enabled'</th>\n",
              "      <th>'default_profile'</th>\n",
              "      <th>'default_profile_image'</th>\n",
              "      <th>'is_translator'</th>\n",
              "      <th>'is_fake'</th>\n",
              "    </tr>\n",
              "  </thead>\n",
              "  <tbody>\n",
              "  </tbody>\n",
              "</table>\n",
              "</div>\n",
              "      <button class=\"colab-df-convert\" onclick=\"convertToInteractive('df-565328a4-1212-40f0-8395-ae4fc8376750')\"\n",
              "              title=\"Convert this dataframe to an interactive table.\"\n",
              "              style=\"display:none;\">\n",
              "        \n",
              "  <svg xmlns=\"http://www.w3.org/2000/svg\" height=\"24px\"viewBox=\"0 0 24 24\"\n",
              "       width=\"24px\">\n",
              "    <path d=\"M0 0h24v24H0V0z\" fill=\"none\"/>\n",
              "    <path d=\"M18.56 5.44l.94 2.06.94-2.06 2.06-.94-2.06-.94-.94-2.06-.94 2.06-2.06.94zm-11 1L8.5 8.5l.94-2.06 2.06-.94-2.06-.94L8.5 2.5l-.94 2.06-2.06.94zm10 10l.94 2.06.94-2.06 2.06-.94-2.06-.94-.94-2.06-.94 2.06-2.06.94z\"/><path d=\"M17.41 7.96l-1.37-1.37c-.4-.4-.92-.59-1.43-.59-.52 0-1.04.2-1.43.59L10.3 9.45l-7.72 7.72c-.78.78-.78 2.05 0 2.83L4 21.41c.39.39.9.59 1.41.59.51 0 1.02-.2 1.41-.59l7.78-7.78 2.81-2.81c.8-.78.8-2.07 0-2.86zM5.41 20L4 18.59l7.72-7.72 1.47 1.35L5.41 20z\"/>\n",
              "  </svg>\n",
              "      </button>\n",
              "      \n",
              "  <style>\n",
              "    .colab-df-container {\n",
              "      display:flex;\n",
              "      flex-wrap:wrap;\n",
              "      gap: 12px;\n",
              "    }\n",
              "\n",
              "    .colab-df-convert {\n",
              "      background-color: #E8F0FE;\n",
              "      border: none;\n",
              "      border-radius: 50%;\n",
              "      cursor: pointer;\n",
              "      display: none;\n",
              "      fill: #1967D2;\n",
              "      height: 32px;\n",
              "      padding: 0 0 0 0;\n",
              "      width: 32px;\n",
              "    }\n",
              "\n",
              "    .colab-df-convert:hover {\n",
              "      background-color: #E2EBFA;\n",
              "      box-shadow: 0px 1px 2px rgba(60, 64, 67, 0.3), 0px 1px 3px 1px rgba(60, 64, 67, 0.15);\n",
              "      fill: #174EA6;\n",
              "    }\n",
              "\n",
              "    [theme=dark] .colab-df-convert {\n",
              "      background-color: #3B4455;\n",
              "      fill: #D2E3FC;\n",
              "    }\n",
              "\n",
              "    [theme=dark] .colab-df-convert:hover {\n",
              "      background-color: #434B5C;\n",
              "      box-shadow: 0px 1px 3px 1px rgba(0, 0, 0, 0.15);\n",
              "      filter: drop-shadow(0px 1px 2px rgba(0, 0, 0, 0.3));\n",
              "      fill: #FFFFFF;\n",
              "    }\n",
              "  </style>\n",
              "\n",
              "      <script>\n",
              "        const buttonEl =\n",
              "          document.querySelector('#df-565328a4-1212-40f0-8395-ae4fc8376750 button.colab-df-convert');\n",
              "        buttonEl.style.display =\n",
              "          google.colab.kernel.accessAllowed ? 'block' : 'none';\n",
              "\n",
              "        async function convertToInteractive(key) {\n",
              "          const element = document.querySelector('#df-565328a4-1212-40f0-8395-ae4fc8376750');\n",
              "          const dataTable =\n",
              "            await google.colab.kernel.invokeFunction('convertToInteractive',\n",
              "                                                     [key], {});\n",
              "          if (!dataTable) return;\n",
              "\n",
              "          const docLinkHtml = 'Like what you see? Visit the ' +\n",
              "            '<a target=\"_blank\" href=https://colab.research.google.com/notebooks/data_table.ipynb>data table notebook</a>'\n",
              "            + ' to learn more about interactive tables.';\n",
              "          element.innerHTML = '';\n",
              "          dataTable['output_type'] = 'display_data';\n",
              "          await google.colab.output.renderOutput(dataTable, element);\n",
              "          const docLink = document.createElement('div');\n",
              "          docLink.innerHTML = docLinkHtml;\n",
              "          element.appendChild(docLink);\n",
              "        }\n",
              "      </script>\n",
              "    </div>\n",
              "  </div>\n",
              "  "
            ]
          },
          "metadata": {},
          "execution_count": 28
        }
      ]
    },
    {
      "cell_type": "markdown",
      "source": [
        "the dataset have no duplicated values"
      ],
      "metadata": {
        "id": "RwLNZOpcGlKH"
      }
    },
    {
      "cell_type": "code",
      "source": [
        "accounts = accounts.drop(\"id\" , axis=1)\n",
        "accounts.info()"
      ],
      "metadata": {
        "colab": {
          "base_uri": "https://localhost:8080/"
        },
        "id": "pehNC78AHEvr",
        "outputId": "099e8007-20c2-409d-e918-4352e125ada8"
      },
      "execution_count": 29,
      "outputs": [
        {
          "output_type": "stream",
          "name": "stdout",
          "text": [
            "<class 'pandas.core.frame.DataFrame'>\n",
            "RangeIndex: 1000 entries, 0 to 999\n",
            "Data columns (total 17 columns):\n",
            " #   Column                          Non-Null Count  Dtype  \n",
            "---  ------                          --------------  -----  \n",
            " 0   'protected'                     1000 non-null   bool   \n",
            " 1   'followers_count'               1000 non-null   int64  \n",
            " 2   'friends_count'                 1000 non-null   int64  \n",
            " 3   'favourites_count'              1000 non-null   int64  \n",
            " 4   'profile_use_background_image'  1000 non-null   bool   \n",
            " 5   'hashtags_average'              1000 non-null   float64\n",
            " 6   'mentions_average'              1000 non-null   float64\n",
            " 7   'urls_average'                  1000 non-null   float64\n",
            " 8   'description'                   1000 non-null   int64  \n",
            " 9   'statuses_count'                1000 non-null   int64  \n",
            " 10  'listed_count'                  1000 non-null   int64  \n",
            " 11  'verified'                      1000 non-null   bool   \n",
            " 12  'contributors_enabled'          1000 non-null   bool   \n",
            " 13  'default_profile'               1000 non-null   bool   \n",
            " 14  'default_profile_image'         1000 non-null   bool   \n",
            " 15  'is_translator'                 1000 non-null   bool   \n",
            " 16  'is_fake'                       1000 non-null   bool   \n",
            "dtypes: bool(8), float64(3), int64(6)\n",
            "memory usage: 78.2 KB\n"
          ]
        }
      ]
    },
    {
      "cell_type": "markdown",
      "source": [
        "**Encode categorical Data**"
      ],
      "metadata": {
        "id": "yv0GLD-KGwdY"
      }
    },
    {
      "cell_type": "markdown",
      "source": [
        "Random Forest classifier can't deal with non-numerical data."
      ],
      "metadata": {
        "id": "UWVlJA_2G2Tm"
      }
    },
    {
      "cell_type": "code",
      "source": [
        "pro_encoder = LabelEncoder()\n",
        "accounts[\"'protected'\"] = pro_encoder.fit_transform(accounts[\"'protected'\"])\n",
        "accounts.head()"
      ],
      "metadata": {
        "colab": {
          "base_uri": "https://localhost:8080/",
          "height": 0
        },
        "id": "iIA1VpLIHBwk",
        "outputId": "30edfed1-dab1-46ea-c25f-71f439368b53"
      },
      "execution_count": 30,
      "outputs": [
        {
          "output_type": "execute_result",
          "data": {
            "text/plain": [
              "   'protected'  'followers_count'  'friends_count'  'favourites_count'  \\\n",
              "0            0               2232              414                4227   \n",
              "1            0                 19              128                 479   \n",
              "2            0                121               53                1567   \n",
              "3            0               4112              710                1129   \n",
              "4            0                304              175                3424   \n",
              "\n",
              "   'profile_use_background_image'  'hashtags_average'  'mentions_average'  \\\n",
              "0                            True                0.10                0.85   \n",
              "1                            True                0.05                0.60   \n",
              "2                            True                0.20                0.35   \n",
              "3                            True                0.75                0.50   \n",
              "4                            True                0.85                1.10   \n",
              "\n",
              "   'urls_average'  'description'  'statuses_count'  'listed_count'  \\\n",
              "0            0.35            101              3415               2   \n",
              "1            0.00              0               140               0   \n",
              "2            0.00             67              1242               0   \n",
              "3            0.00             35              8066               3   \n",
              "4            0.00             69              1525               0   \n",
              "\n",
              "   'verified'  'contributors_enabled'  'default_profile'  \\\n",
              "0       False                   False              False   \n",
              "1       False                   False               True   \n",
              "2       False                   False              False   \n",
              "3       False                   False              False   \n",
              "4       False                   False               True   \n",
              "\n",
              "   'default_profile_image'  'is_translator'  'is_fake'  \n",
              "0                    False            False      False  \n",
              "1                    False            False      False  \n",
              "2                    False            False      False  \n",
              "3                    False            False      False  \n",
              "4                    False            False      False  "
            ],
            "text/html": [
              "\n",
              "  <div id=\"df-9984b03f-12e5-4709-8b96-ae357642e9d4\">\n",
              "    <div class=\"colab-df-container\">\n",
              "      <div>\n",
              "<style scoped>\n",
              "    .dataframe tbody tr th:only-of-type {\n",
              "        vertical-align: middle;\n",
              "    }\n",
              "\n",
              "    .dataframe tbody tr th {\n",
              "        vertical-align: top;\n",
              "    }\n",
              "\n",
              "    .dataframe thead th {\n",
              "        text-align: right;\n",
              "    }\n",
              "</style>\n",
              "<table border=\"1\" class=\"dataframe\">\n",
              "  <thead>\n",
              "    <tr style=\"text-align: right;\">\n",
              "      <th></th>\n",
              "      <th>'protected'</th>\n",
              "      <th>'followers_count'</th>\n",
              "      <th>'friends_count'</th>\n",
              "      <th>'favourites_count'</th>\n",
              "      <th>'profile_use_background_image'</th>\n",
              "      <th>'hashtags_average'</th>\n",
              "      <th>'mentions_average'</th>\n",
              "      <th>'urls_average'</th>\n",
              "      <th>'description'</th>\n",
              "      <th>'statuses_count'</th>\n",
              "      <th>'listed_count'</th>\n",
              "      <th>'verified'</th>\n",
              "      <th>'contributors_enabled'</th>\n",
              "      <th>'default_profile'</th>\n",
              "      <th>'default_profile_image'</th>\n",
              "      <th>'is_translator'</th>\n",
              "      <th>'is_fake'</th>\n",
              "    </tr>\n",
              "  </thead>\n",
              "  <tbody>\n",
              "    <tr>\n",
              "      <th>0</th>\n",
              "      <td>0</td>\n",
              "      <td>2232</td>\n",
              "      <td>414</td>\n",
              "      <td>4227</td>\n",
              "      <td>True</td>\n",
              "      <td>0.10</td>\n",
              "      <td>0.85</td>\n",
              "      <td>0.35</td>\n",
              "      <td>101</td>\n",
              "      <td>3415</td>\n",
              "      <td>2</td>\n",
              "      <td>False</td>\n",
              "      <td>False</td>\n",
              "      <td>False</td>\n",
              "      <td>False</td>\n",
              "      <td>False</td>\n",
              "      <td>False</td>\n",
              "    </tr>\n",
              "    <tr>\n",
              "      <th>1</th>\n",
              "      <td>0</td>\n",
              "      <td>19</td>\n",
              "      <td>128</td>\n",
              "      <td>479</td>\n",
              "      <td>True</td>\n",
              "      <td>0.05</td>\n",
              "      <td>0.60</td>\n",
              "      <td>0.00</td>\n",
              "      <td>0</td>\n",
              "      <td>140</td>\n",
              "      <td>0</td>\n",
              "      <td>False</td>\n",
              "      <td>False</td>\n",
              "      <td>True</td>\n",
              "      <td>False</td>\n",
              "      <td>False</td>\n",
              "      <td>False</td>\n",
              "    </tr>\n",
              "    <tr>\n",
              "      <th>2</th>\n",
              "      <td>0</td>\n",
              "      <td>121</td>\n",
              "      <td>53</td>\n",
              "      <td>1567</td>\n",
              "      <td>True</td>\n",
              "      <td>0.20</td>\n",
              "      <td>0.35</td>\n",
              "      <td>0.00</td>\n",
              "      <td>67</td>\n",
              "      <td>1242</td>\n",
              "      <td>0</td>\n",
              "      <td>False</td>\n",
              "      <td>False</td>\n",
              "      <td>False</td>\n",
              "      <td>False</td>\n",
              "      <td>False</td>\n",
              "      <td>False</td>\n",
              "    </tr>\n",
              "    <tr>\n",
              "      <th>3</th>\n",
              "      <td>0</td>\n",
              "      <td>4112</td>\n",
              "      <td>710</td>\n",
              "      <td>1129</td>\n",
              "      <td>True</td>\n",
              "      <td>0.75</td>\n",
              "      <td>0.50</td>\n",
              "      <td>0.00</td>\n",
              "      <td>35</td>\n",
              "      <td>8066</td>\n",
              "      <td>3</td>\n",
              "      <td>False</td>\n",
              "      <td>False</td>\n",
              "      <td>False</td>\n",
              "      <td>False</td>\n",
              "      <td>False</td>\n",
              "      <td>False</td>\n",
              "    </tr>\n",
              "    <tr>\n",
              "      <th>4</th>\n",
              "      <td>0</td>\n",
              "      <td>304</td>\n",
              "      <td>175</td>\n",
              "      <td>3424</td>\n",
              "      <td>True</td>\n",
              "      <td>0.85</td>\n",
              "      <td>1.10</td>\n",
              "      <td>0.00</td>\n",
              "      <td>69</td>\n",
              "      <td>1525</td>\n",
              "      <td>0</td>\n",
              "      <td>False</td>\n",
              "      <td>False</td>\n",
              "      <td>True</td>\n",
              "      <td>False</td>\n",
              "      <td>False</td>\n",
              "      <td>False</td>\n",
              "    </tr>\n",
              "  </tbody>\n",
              "</table>\n",
              "</div>\n",
              "      <button class=\"colab-df-convert\" onclick=\"convertToInteractive('df-9984b03f-12e5-4709-8b96-ae357642e9d4')\"\n",
              "              title=\"Convert this dataframe to an interactive table.\"\n",
              "              style=\"display:none;\">\n",
              "        \n",
              "  <svg xmlns=\"http://www.w3.org/2000/svg\" height=\"24px\"viewBox=\"0 0 24 24\"\n",
              "       width=\"24px\">\n",
              "    <path d=\"M0 0h24v24H0V0z\" fill=\"none\"/>\n",
              "    <path d=\"M18.56 5.44l.94 2.06.94-2.06 2.06-.94-2.06-.94-.94-2.06-.94 2.06-2.06.94zm-11 1L8.5 8.5l.94-2.06 2.06-.94-2.06-.94L8.5 2.5l-.94 2.06-2.06.94zm10 10l.94 2.06.94-2.06 2.06-.94-2.06-.94-.94-2.06-.94 2.06-2.06.94z\"/><path d=\"M17.41 7.96l-1.37-1.37c-.4-.4-.92-.59-1.43-.59-.52 0-1.04.2-1.43.59L10.3 9.45l-7.72 7.72c-.78.78-.78 2.05 0 2.83L4 21.41c.39.39.9.59 1.41.59.51 0 1.02-.2 1.41-.59l7.78-7.78 2.81-2.81c.8-.78.8-2.07 0-2.86zM5.41 20L4 18.59l7.72-7.72 1.47 1.35L5.41 20z\"/>\n",
              "  </svg>\n",
              "      </button>\n",
              "      \n",
              "  <style>\n",
              "    .colab-df-container {\n",
              "      display:flex;\n",
              "      flex-wrap:wrap;\n",
              "      gap: 12px;\n",
              "    }\n",
              "\n",
              "    .colab-df-convert {\n",
              "      background-color: #E8F0FE;\n",
              "      border: none;\n",
              "      border-radius: 50%;\n",
              "      cursor: pointer;\n",
              "      display: none;\n",
              "      fill: #1967D2;\n",
              "      height: 32px;\n",
              "      padding: 0 0 0 0;\n",
              "      width: 32px;\n",
              "    }\n",
              "\n",
              "    .colab-df-convert:hover {\n",
              "      background-color: #E2EBFA;\n",
              "      box-shadow: 0px 1px 2px rgba(60, 64, 67, 0.3), 0px 1px 3px 1px rgba(60, 64, 67, 0.15);\n",
              "      fill: #174EA6;\n",
              "    }\n",
              "\n",
              "    [theme=dark] .colab-df-convert {\n",
              "      background-color: #3B4455;\n",
              "      fill: #D2E3FC;\n",
              "    }\n",
              "\n",
              "    [theme=dark] .colab-df-convert:hover {\n",
              "      background-color: #434B5C;\n",
              "      box-shadow: 0px 1px 3px 1px rgba(0, 0, 0, 0.15);\n",
              "      filter: drop-shadow(0px 1px 2px rgba(0, 0, 0, 0.3));\n",
              "      fill: #FFFFFF;\n",
              "    }\n",
              "  </style>\n",
              "\n",
              "      <script>\n",
              "        const buttonEl =\n",
              "          document.querySelector('#df-9984b03f-12e5-4709-8b96-ae357642e9d4 button.colab-df-convert');\n",
              "        buttonEl.style.display =\n",
              "          google.colab.kernel.accessAllowed ? 'block' : 'none';\n",
              "\n",
              "        async function convertToInteractive(key) {\n",
              "          const element = document.querySelector('#df-9984b03f-12e5-4709-8b96-ae357642e9d4');\n",
              "          const dataTable =\n",
              "            await google.colab.kernel.invokeFunction('convertToInteractive',\n",
              "                                                     [key], {});\n",
              "          if (!dataTable) return;\n",
              "\n",
              "          const docLinkHtml = 'Like what you see? Visit the ' +\n",
              "            '<a target=\"_blank\" href=https://colab.research.google.com/notebooks/data_table.ipynb>data table notebook</a>'\n",
              "            + ' to learn more about interactive tables.';\n",
              "          element.innerHTML = '';\n",
              "          dataTable['output_type'] = 'display_data';\n",
              "          await google.colab.output.renderOutput(dataTable, element);\n",
              "          const docLink = document.createElement('div');\n",
              "          docLink.innerHTML = docLinkHtml;\n",
              "          element.appendChild(docLink);\n",
              "        }\n",
              "      </script>\n",
              "    </div>\n",
              "  </div>\n",
              "  "
            ]
          },
          "metadata": {},
          "execution_count": 30
        }
      ]
    },
    {
      "cell_type": "code",
      "source": [
        "pro_img_bg_encoder = LabelEncoder()\n",
        "accounts[\"'profile_use_background_image'\"] = pro_img_bg_encoder.fit_transform(accounts[\"'profile_use_background_image'\"])\n",
        "accounts.head()"
      ],
      "metadata": {
        "colab": {
          "base_uri": "https://localhost:8080/",
          "height": 0
        },
        "id": "jSjKl9szHQdG",
        "outputId": "fabecd31-6947-4246-b8f2-d9850bce3408"
      },
      "execution_count": 31,
      "outputs": [
        {
          "output_type": "execute_result",
          "data": {
            "text/plain": [
              "   'protected'  'followers_count'  'friends_count'  'favourites_count'  \\\n",
              "0            0               2232              414                4227   \n",
              "1            0                 19              128                 479   \n",
              "2            0                121               53                1567   \n",
              "3            0               4112              710                1129   \n",
              "4            0                304              175                3424   \n",
              "\n",
              "   'profile_use_background_image'  'hashtags_average'  'mentions_average'  \\\n",
              "0                               1                0.10                0.85   \n",
              "1                               1                0.05                0.60   \n",
              "2                               1                0.20                0.35   \n",
              "3                               1                0.75                0.50   \n",
              "4                               1                0.85                1.10   \n",
              "\n",
              "   'urls_average'  'description'  'statuses_count'  'listed_count'  \\\n",
              "0            0.35            101              3415               2   \n",
              "1            0.00              0               140               0   \n",
              "2            0.00             67              1242               0   \n",
              "3            0.00             35              8066               3   \n",
              "4            0.00             69              1525               0   \n",
              "\n",
              "   'verified'  'contributors_enabled'  'default_profile'  \\\n",
              "0       False                   False              False   \n",
              "1       False                   False               True   \n",
              "2       False                   False              False   \n",
              "3       False                   False              False   \n",
              "4       False                   False               True   \n",
              "\n",
              "   'default_profile_image'  'is_translator'  'is_fake'  \n",
              "0                    False            False      False  \n",
              "1                    False            False      False  \n",
              "2                    False            False      False  \n",
              "3                    False            False      False  \n",
              "4                    False            False      False  "
            ],
            "text/html": [
              "\n",
              "  <div id=\"df-29917d4d-de09-43e8-92d8-a5e47426bba0\">\n",
              "    <div class=\"colab-df-container\">\n",
              "      <div>\n",
              "<style scoped>\n",
              "    .dataframe tbody tr th:only-of-type {\n",
              "        vertical-align: middle;\n",
              "    }\n",
              "\n",
              "    .dataframe tbody tr th {\n",
              "        vertical-align: top;\n",
              "    }\n",
              "\n",
              "    .dataframe thead th {\n",
              "        text-align: right;\n",
              "    }\n",
              "</style>\n",
              "<table border=\"1\" class=\"dataframe\">\n",
              "  <thead>\n",
              "    <tr style=\"text-align: right;\">\n",
              "      <th></th>\n",
              "      <th>'protected'</th>\n",
              "      <th>'followers_count'</th>\n",
              "      <th>'friends_count'</th>\n",
              "      <th>'favourites_count'</th>\n",
              "      <th>'profile_use_background_image'</th>\n",
              "      <th>'hashtags_average'</th>\n",
              "      <th>'mentions_average'</th>\n",
              "      <th>'urls_average'</th>\n",
              "      <th>'description'</th>\n",
              "      <th>'statuses_count'</th>\n",
              "      <th>'listed_count'</th>\n",
              "      <th>'verified'</th>\n",
              "      <th>'contributors_enabled'</th>\n",
              "      <th>'default_profile'</th>\n",
              "      <th>'default_profile_image'</th>\n",
              "      <th>'is_translator'</th>\n",
              "      <th>'is_fake'</th>\n",
              "    </tr>\n",
              "  </thead>\n",
              "  <tbody>\n",
              "    <tr>\n",
              "      <th>0</th>\n",
              "      <td>0</td>\n",
              "      <td>2232</td>\n",
              "      <td>414</td>\n",
              "      <td>4227</td>\n",
              "      <td>1</td>\n",
              "      <td>0.10</td>\n",
              "      <td>0.85</td>\n",
              "      <td>0.35</td>\n",
              "      <td>101</td>\n",
              "      <td>3415</td>\n",
              "      <td>2</td>\n",
              "      <td>False</td>\n",
              "      <td>False</td>\n",
              "      <td>False</td>\n",
              "      <td>False</td>\n",
              "      <td>False</td>\n",
              "      <td>False</td>\n",
              "    </tr>\n",
              "    <tr>\n",
              "      <th>1</th>\n",
              "      <td>0</td>\n",
              "      <td>19</td>\n",
              "      <td>128</td>\n",
              "      <td>479</td>\n",
              "      <td>1</td>\n",
              "      <td>0.05</td>\n",
              "      <td>0.60</td>\n",
              "      <td>0.00</td>\n",
              "      <td>0</td>\n",
              "      <td>140</td>\n",
              "      <td>0</td>\n",
              "      <td>False</td>\n",
              "      <td>False</td>\n",
              "      <td>True</td>\n",
              "      <td>False</td>\n",
              "      <td>False</td>\n",
              "      <td>False</td>\n",
              "    </tr>\n",
              "    <tr>\n",
              "      <th>2</th>\n",
              "      <td>0</td>\n",
              "      <td>121</td>\n",
              "      <td>53</td>\n",
              "      <td>1567</td>\n",
              "      <td>1</td>\n",
              "      <td>0.20</td>\n",
              "      <td>0.35</td>\n",
              "      <td>0.00</td>\n",
              "      <td>67</td>\n",
              "      <td>1242</td>\n",
              "      <td>0</td>\n",
              "      <td>False</td>\n",
              "      <td>False</td>\n",
              "      <td>False</td>\n",
              "      <td>False</td>\n",
              "      <td>False</td>\n",
              "      <td>False</td>\n",
              "    </tr>\n",
              "    <tr>\n",
              "      <th>3</th>\n",
              "      <td>0</td>\n",
              "      <td>4112</td>\n",
              "      <td>710</td>\n",
              "      <td>1129</td>\n",
              "      <td>1</td>\n",
              "      <td>0.75</td>\n",
              "      <td>0.50</td>\n",
              "      <td>0.00</td>\n",
              "      <td>35</td>\n",
              "      <td>8066</td>\n",
              "      <td>3</td>\n",
              "      <td>False</td>\n",
              "      <td>False</td>\n",
              "      <td>False</td>\n",
              "      <td>False</td>\n",
              "      <td>False</td>\n",
              "      <td>False</td>\n",
              "    </tr>\n",
              "    <tr>\n",
              "      <th>4</th>\n",
              "      <td>0</td>\n",
              "      <td>304</td>\n",
              "      <td>175</td>\n",
              "      <td>3424</td>\n",
              "      <td>1</td>\n",
              "      <td>0.85</td>\n",
              "      <td>1.10</td>\n",
              "      <td>0.00</td>\n",
              "      <td>69</td>\n",
              "      <td>1525</td>\n",
              "      <td>0</td>\n",
              "      <td>False</td>\n",
              "      <td>False</td>\n",
              "      <td>True</td>\n",
              "      <td>False</td>\n",
              "      <td>False</td>\n",
              "      <td>False</td>\n",
              "    </tr>\n",
              "  </tbody>\n",
              "</table>\n",
              "</div>\n",
              "      <button class=\"colab-df-convert\" onclick=\"convertToInteractive('df-29917d4d-de09-43e8-92d8-a5e47426bba0')\"\n",
              "              title=\"Convert this dataframe to an interactive table.\"\n",
              "              style=\"display:none;\">\n",
              "        \n",
              "  <svg xmlns=\"http://www.w3.org/2000/svg\" height=\"24px\"viewBox=\"0 0 24 24\"\n",
              "       width=\"24px\">\n",
              "    <path d=\"M0 0h24v24H0V0z\" fill=\"none\"/>\n",
              "    <path d=\"M18.56 5.44l.94 2.06.94-2.06 2.06-.94-2.06-.94-.94-2.06-.94 2.06-2.06.94zm-11 1L8.5 8.5l.94-2.06 2.06-.94-2.06-.94L8.5 2.5l-.94 2.06-2.06.94zm10 10l.94 2.06.94-2.06 2.06-.94-2.06-.94-.94-2.06-.94 2.06-2.06.94z\"/><path d=\"M17.41 7.96l-1.37-1.37c-.4-.4-.92-.59-1.43-.59-.52 0-1.04.2-1.43.59L10.3 9.45l-7.72 7.72c-.78.78-.78 2.05 0 2.83L4 21.41c.39.39.9.59 1.41.59.51 0 1.02-.2 1.41-.59l7.78-7.78 2.81-2.81c.8-.78.8-2.07 0-2.86zM5.41 20L4 18.59l7.72-7.72 1.47 1.35L5.41 20z\"/>\n",
              "  </svg>\n",
              "      </button>\n",
              "      \n",
              "  <style>\n",
              "    .colab-df-container {\n",
              "      display:flex;\n",
              "      flex-wrap:wrap;\n",
              "      gap: 12px;\n",
              "    }\n",
              "\n",
              "    .colab-df-convert {\n",
              "      background-color: #E8F0FE;\n",
              "      border: none;\n",
              "      border-radius: 50%;\n",
              "      cursor: pointer;\n",
              "      display: none;\n",
              "      fill: #1967D2;\n",
              "      height: 32px;\n",
              "      padding: 0 0 0 0;\n",
              "      width: 32px;\n",
              "    }\n",
              "\n",
              "    .colab-df-convert:hover {\n",
              "      background-color: #E2EBFA;\n",
              "      box-shadow: 0px 1px 2px rgba(60, 64, 67, 0.3), 0px 1px 3px 1px rgba(60, 64, 67, 0.15);\n",
              "      fill: #174EA6;\n",
              "    }\n",
              "\n",
              "    [theme=dark] .colab-df-convert {\n",
              "      background-color: #3B4455;\n",
              "      fill: #D2E3FC;\n",
              "    }\n",
              "\n",
              "    [theme=dark] .colab-df-convert:hover {\n",
              "      background-color: #434B5C;\n",
              "      box-shadow: 0px 1px 3px 1px rgba(0, 0, 0, 0.15);\n",
              "      filter: drop-shadow(0px 1px 2px rgba(0, 0, 0, 0.3));\n",
              "      fill: #FFFFFF;\n",
              "    }\n",
              "  </style>\n",
              "\n",
              "      <script>\n",
              "        const buttonEl =\n",
              "          document.querySelector('#df-29917d4d-de09-43e8-92d8-a5e47426bba0 button.colab-df-convert');\n",
              "        buttonEl.style.display =\n",
              "          google.colab.kernel.accessAllowed ? 'block' : 'none';\n",
              "\n",
              "        async function convertToInteractive(key) {\n",
              "          const element = document.querySelector('#df-29917d4d-de09-43e8-92d8-a5e47426bba0');\n",
              "          const dataTable =\n",
              "            await google.colab.kernel.invokeFunction('convertToInteractive',\n",
              "                                                     [key], {});\n",
              "          if (!dataTable) return;\n",
              "\n",
              "          const docLinkHtml = 'Like what you see? Visit the ' +\n",
              "            '<a target=\"_blank\" href=https://colab.research.google.com/notebooks/data_table.ipynb>data table notebook</a>'\n",
              "            + ' to learn more about interactive tables.';\n",
              "          element.innerHTML = '';\n",
              "          dataTable['output_type'] = 'display_data';\n",
              "          await google.colab.output.renderOutput(dataTable, element);\n",
              "          const docLink = document.createElement('div');\n",
              "          docLink.innerHTML = docLinkHtml;\n",
              "          element.appendChild(docLink);\n",
              "        }\n",
              "      </script>\n",
              "    </div>\n",
              "  </div>\n",
              "  "
            ]
          },
          "metadata": {},
          "execution_count": 31
        }
      ]
    },
    {
      "cell_type": "code",
      "source": [
        "ver_encoder = LabelEncoder()\n",
        "accounts[\"'verified'\"] = ver_encoder.fit_transform(accounts[\"'verified'\"])\n",
        "accounts.head()"
      ],
      "metadata": {
        "colab": {
          "base_uri": "https://localhost:8080/",
          "height": 0
        },
        "id": "81ppa7LRHSkS",
        "outputId": "cd58b725-d689-4783-d53c-5a85f08710bd"
      },
      "execution_count": 32,
      "outputs": [
        {
          "output_type": "execute_result",
          "data": {
            "text/plain": [
              "   'protected'  'followers_count'  'friends_count'  'favourites_count'  \\\n",
              "0            0               2232              414                4227   \n",
              "1            0                 19              128                 479   \n",
              "2            0                121               53                1567   \n",
              "3            0               4112              710                1129   \n",
              "4            0                304              175                3424   \n",
              "\n",
              "   'profile_use_background_image'  'hashtags_average'  'mentions_average'  \\\n",
              "0                               1                0.10                0.85   \n",
              "1                               1                0.05                0.60   \n",
              "2                               1                0.20                0.35   \n",
              "3                               1                0.75                0.50   \n",
              "4                               1                0.85                1.10   \n",
              "\n",
              "   'urls_average'  'description'  'statuses_count'  'listed_count'  \\\n",
              "0            0.35            101              3415               2   \n",
              "1            0.00              0               140               0   \n",
              "2            0.00             67              1242               0   \n",
              "3            0.00             35              8066               3   \n",
              "4            0.00             69              1525               0   \n",
              "\n",
              "   'verified'  'contributors_enabled'  'default_profile'  \\\n",
              "0           0                   False              False   \n",
              "1           0                   False               True   \n",
              "2           0                   False              False   \n",
              "3           0                   False              False   \n",
              "4           0                   False               True   \n",
              "\n",
              "   'default_profile_image'  'is_translator'  'is_fake'  \n",
              "0                    False            False      False  \n",
              "1                    False            False      False  \n",
              "2                    False            False      False  \n",
              "3                    False            False      False  \n",
              "4                    False            False      False  "
            ],
            "text/html": [
              "\n",
              "  <div id=\"df-5b969f35-f064-4111-85d4-13a8b9cf3b00\">\n",
              "    <div class=\"colab-df-container\">\n",
              "      <div>\n",
              "<style scoped>\n",
              "    .dataframe tbody tr th:only-of-type {\n",
              "        vertical-align: middle;\n",
              "    }\n",
              "\n",
              "    .dataframe tbody tr th {\n",
              "        vertical-align: top;\n",
              "    }\n",
              "\n",
              "    .dataframe thead th {\n",
              "        text-align: right;\n",
              "    }\n",
              "</style>\n",
              "<table border=\"1\" class=\"dataframe\">\n",
              "  <thead>\n",
              "    <tr style=\"text-align: right;\">\n",
              "      <th></th>\n",
              "      <th>'protected'</th>\n",
              "      <th>'followers_count'</th>\n",
              "      <th>'friends_count'</th>\n",
              "      <th>'favourites_count'</th>\n",
              "      <th>'profile_use_background_image'</th>\n",
              "      <th>'hashtags_average'</th>\n",
              "      <th>'mentions_average'</th>\n",
              "      <th>'urls_average'</th>\n",
              "      <th>'description'</th>\n",
              "      <th>'statuses_count'</th>\n",
              "      <th>'listed_count'</th>\n",
              "      <th>'verified'</th>\n",
              "      <th>'contributors_enabled'</th>\n",
              "      <th>'default_profile'</th>\n",
              "      <th>'default_profile_image'</th>\n",
              "      <th>'is_translator'</th>\n",
              "      <th>'is_fake'</th>\n",
              "    </tr>\n",
              "  </thead>\n",
              "  <tbody>\n",
              "    <tr>\n",
              "      <th>0</th>\n",
              "      <td>0</td>\n",
              "      <td>2232</td>\n",
              "      <td>414</td>\n",
              "      <td>4227</td>\n",
              "      <td>1</td>\n",
              "      <td>0.10</td>\n",
              "      <td>0.85</td>\n",
              "      <td>0.35</td>\n",
              "      <td>101</td>\n",
              "      <td>3415</td>\n",
              "      <td>2</td>\n",
              "      <td>0</td>\n",
              "      <td>False</td>\n",
              "      <td>False</td>\n",
              "      <td>False</td>\n",
              "      <td>False</td>\n",
              "      <td>False</td>\n",
              "    </tr>\n",
              "    <tr>\n",
              "      <th>1</th>\n",
              "      <td>0</td>\n",
              "      <td>19</td>\n",
              "      <td>128</td>\n",
              "      <td>479</td>\n",
              "      <td>1</td>\n",
              "      <td>0.05</td>\n",
              "      <td>0.60</td>\n",
              "      <td>0.00</td>\n",
              "      <td>0</td>\n",
              "      <td>140</td>\n",
              "      <td>0</td>\n",
              "      <td>0</td>\n",
              "      <td>False</td>\n",
              "      <td>True</td>\n",
              "      <td>False</td>\n",
              "      <td>False</td>\n",
              "      <td>False</td>\n",
              "    </tr>\n",
              "    <tr>\n",
              "      <th>2</th>\n",
              "      <td>0</td>\n",
              "      <td>121</td>\n",
              "      <td>53</td>\n",
              "      <td>1567</td>\n",
              "      <td>1</td>\n",
              "      <td>0.20</td>\n",
              "      <td>0.35</td>\n",
              "      <td>0.00</td>\n",
              "      <td>67</td>\n",
              "      <td>1242</td>\n",
              "      <td>0</td>\n",
              "      <td>0</td>\n",
              "      <td>False</td>\n",
              "      <td>False</td>\n",
              "      <td>False</td>\n",
              "      <td>False</td>\n",
              "      <td>False</td>\n",
              "    </tr>\n",
              "    <tr>\n",
              "      <th>3</th>\n",
              "      <td>0</td>\n",
              "      <td>4112</td>\n",
              "      <td>710</td>\n",
              "      <td>1129</td>\n",
              "      <td>1</td>\n",
              "      <td>0.75</td>\n",
              "      <td>0.50</td>\n",
              "      <td>0.00</td>\n",
              "      <td>35</td>\n",
              "      <td>8066</td>\n",
              "      <td>3</td>\n",
              "      <td>0</td>\n",
              "      <td>False</td>\n",
              "      <td>False</td>\n",
              "      <td>False</td>\n",
              "      <td>False</td>\n",
              "      <td>False</td>\n",
              "    </tr>\n",
              "    <tr>\n",
              "      <th>4</th>\n",
              "      <td>0</td>\n",
              "      <td>304</td>\n",
              "      <td>175</td>\n",
              "      <td>3424</td>\n",
              "      <td>1</td>\n",
              "      <td>0.85</td>\n",
              "      <td>1.10</td>\n",
              "      <td>0.00</td>\n",
              "      <td>69</td>\n",
              "      <td>1525</td>\n",
              "      <td>0</td>\n",
              "      <td>0</td>\n",
              "      <td>False</td>\n",
              "      <td>True</td>\n",
              "      <td>False</td>\n",
              "      <td>False</td>\n",
              "      <td>False</td>\n",
              "    </tr>\n",
              "  </tbody>\n",
              "</table>\n",
              "</div>\n",
              "      <button class=\"colab-df-convert\" onclick=\"convertToInteractive('df-5b969f35-f064-4111-85d4-13a8b9cf3b00')\"\n",
              "              title=\"Convert this dataframe to an interactive table.\"\n",
              "              style=\"display:none;\">\n",
              "        \n",
              "  <svg xmlns=\"http://www.w3.org/2000/svg\" height=\"24px\"viewBox=\"0 0 24 24\"\n",
              "       width=\"24px\">\n",
              "    <path d=\"M0 0h24v24H0V0z\" fill=\"none\"/>\n",
              "    <path d=\"M18.56 5.44l.94 2.06.94-2.06 2.06-.94-2.06-.94-.94-2.06-.94 2.06-2.06.94zm-11 1L8.5 8.5l.94-2.06 2.06-.94-2.06-.94L8.5 2.5l-.94 2.06-2.06.94zm10 10l.94 2.06.94-2.06 2.06-.94-2.06-.94-.94-2.06-.94 2.06-2.06.94z\"/><path d=\"M17.41 7.96l-1.37-1.37c-.4-.4-.92-.59-1.43-.59-.52 0-1.04.2-1.43.59L10.3 9.45l-7.72 7.72c-.78.78-.78 2.05 0 2.83L4 21.41c.39.39.9.59 1.41.59.51 0 1.02-.2 1.41-.59l7.78-7.78 2.81-2.81c.8-.78.8-2.07 0-2.86zM5.41 20L4 18.59l7.72-7.72 1.47 1.35L5.41 20z\"/>\n",
              "  </svg>\n",
              "      </button>\n",
              "      \n",
              "  <style>\n",
              "    .colab-df-container {\n",
              "      display:flex;\n",
              "      flex-wrap:wrap;\n",
              "      gap: 12px;\n",
              "    }\n",
              "\n",
              "    .colab-df-convert {\n",
              "      background-color: #E8F0FE;\n",
              "      border: none;\n",
              "      border-radius: 50%;\n",
              "      cursor: pointer;\n",
              "      display: none;\n",
              "      fill: #1967D2;\n",
              "      height: 32px;\n",
              "      padding: 0 0 0 0;\n",
              "      width: 32px;\n",
              "    }\n",
              "\n",
              "    .colab-df-convert:hover {\n",
              "      background-color: #E2EBFA;\n",
              "      box-shadow: 0px 1px 2px rgba(60, 64, 67, 0.3), 0px 1px 3px 1px rgba(60, 64, 67, 0.15);\n",
              "      fill: #174EA6;\n",
              "    }\n",
              "\n",
              "    [theme=dark] .colab-df-convert {\n",
              "      background-color: #3B4455;\n",
              "      fill: #D2E3FC;\n",
              "    }\n",
              "\n",
              "    [theme=dark] .colab-df-convert:hover {\n",
              "      background-color: #434B5C;\n",
              "      box-shadow: 0px 1px 3px 1px rgba(0, 0, 0, 0.15);\n",
              "      filter: drop-shadow(0px 1px 2px rgba(0, 0, 0, 0.3));\n",
              "      fill: #FFFFFF;\n",
              "    }\n",
              "  </style>\n",
              "\n",
              "      <script>\n",
              "        const buttonEl =\n",
              "          document.querySelector('#df-5b969f35-f064-4111-85d4-13a8b9cf3b00 button.colab-df-convert');\n",
              "        buttonEl.style.display =\n",
              "          google.colab.kernel.accessAllowed ? 'block' : 'none';\n",
              "\n",
              "        async function convertToInteractive(key) {\n",
              "          const element = document.querySelector('#df-5b969f35-f064-4111-85d4-13a8b9cf3b00');\n",
              "          const dataTable =\n",
              "            await google.colab.kernel.invokeFunction('convertToInteractive',\n",
              "                                                     [key], {});\n",
              "          if (!dataTable) return;\n",
              "\n",
              "          const docLinkHtml = 'Like what you see? Visit the ' +\n",
              "            '<a target=\"_blank\" href=https://colab.research.google.com/notebooks/data_table.ipynb>data table notebook</a>'\n",
              "            + ' to learn more about interactive tables.';\n",
              "          element.innerHTML = '';\n",
              "          dataTable['output_type'] = 'display_data';\n",
              "          await google.colab.output.renderOutput(dataTable, element);\n",
              "          const docLink = document.createElement('div');\n",
              "          docLink.innerHTML = docLinkHtml;\n",
              "          element.appendChild(docLink);\n",
              "        }\n",
              "      </script>\n",
              "    </div>\n",
              "  </div>\n",
              "  "
            ]
          },
          "metadata": {},
          "execution_count": 32
        }
      ]
    },
    {
      "cell_type": "code",
      "source": [
        "contr_encoder = LabelEncoder()\n",
        "accounts[\"'contributors_enabled'\"] = contr_encoder.fit_transform(accounts[\"'contributors_enabled'\"])\n",
        "accounts.head()"
      ],
      "metadata": {
        "colab": {
          "base_uri": "https://localhost:8080/",
          "height": 0
        },
        "id": "VGhyET5SHVNc",
        "outputId": "56813890-7c26-4f0c-89fd-c336cfae3796"
      },
      "execution_count": 33,
      "outputs": [
        {
          "output_type": "execute_result",
          "data": {
            "text/plain": [
              "   'protected'  'followers_count'  'friends_count'  'favourites_count'  \\\n",
              "0            0               2232              414                4227   \n",
              "1            0                 19              128                 479   \n",
              "2            0                121               53                1567   \n",
              "3            0               4112              710                1129   \n",
              "4            0                304              175                3424   \n",
              "\n",
              "   'profile_use_background_image'  'hashtags_average'  'mentions_average'  \\\n",
              "0                               1                0.10                0.85   \n",
              "1                               1                0.05                0.60   \n",
              "2                               1                0.20                0.35   \n",
              "3                               1                0.75                0.50   \n",
              "4                               1                0.85                1.10   \n",
              "\n",
              "   'urls_average'  'description'  'statuses_count'  'listed_count'  \\\n",
              "0            0.35            101              3415               2   \n",
              "1            0.00              0               140               0   \n",
              "2            0.00             67              1242               0   \n",
              "3            0.00             35              8066               3   \n",
              "4            0.00             69              1525               0   \n",
              "\n",
              "   'verified'  'contributors_enabled'  'default_profile'  \\\n",
              "0           0                       0              False   \n",
              "1           0                       0               True   \n",
              "2           0                       0              False   \n",
              "3           0                       0              False   \n",
              "4           0                       0               True   \n",
              "\n",
              "   'default_profile_image'  'is_translator'  'is_fake'  \n",
              "0                    False            False      False  \n",
              "1                    False            False      False  \n",
              "2                    False            False      False  \n",
              "3                    False            False      False  \n",
              "4                    False            False      False  "
            ],
            "text/html": [
              "\n",
              "  <div id=\"df-24ee119c-8c21-4443-8e45-2bac72dfe429\">\n",
              "    <div class=\"colab-df-container\">\n",
              "      <div>\n",
              "<style scoped>\n",
              "    .dataframe tbody tr th:only-of-type {\n",
              "        vertical-align: middle;\n",
              "    }\n",
              "\n",
              "    .dataframe tbody tr th {\n",
              "        vertical-align: top;\n",
              "    }\n",
              "\n",
              "    .dataframe thead th {\n",
              "        text-align: right;\n",
              "    }\n",
              "</style>\n",
              "<table border=\"1\" class=\"dataframe\">\n",
              "  <thead>\n",
              "    <tr style=\"text-align: right;\">\n",
              "      <th></th>\n",
              "      <th>'protected'</th>\n",
              "      <th>'followers_count'</th>\n",
              "      <th>'friends_count'</th>\n",
              "      <th>'favourites_count'</th>\n",
              "      <th>'profile_use_background_image'</th>\n",
              "      <th>'hashtags_average'</th>\n",
              "      <th>'mentions_average'</th>\n",
              "      <th>'urls_average'</th>\n",
              "      <th>'description'</th>\n",
              "      <th>'statuses_count'</th>\n",
              "      <th>'listed_count'</th>\n",
              "      <th>'verified'</th>\n",
              "      <th>'contributors_enabled'</th>\n",
              "      <th>'default_profile'</th>\n",
              "      <th>'default_profile_image'</th>\n",
              "      <th>'is_translator'</th>\n",
              "      <th>'is_fake'</th>\n",
              "    </tr>\n",
              "  </thead>\n",
              "  <tbody>\n",
              "    <tr>\n",
              "      <th>0</th>\n",
              "      <td>0</td>\n",
              "      <td>2232</td>\n",
              "      <td>414</td>\n",
              "      <td>4227</td>\n",
              "      <td>1</td>\n",
              "      <td>0.10</td>\n",
              "      <td>0.85</td>\n",
              "      <td>0.35</td>\n",
              "      <td>101</td>\n",
              "      <td>3415</td>\n",
              "      <td>2</td>\n",
              "      <td>0</td>\n",
              "      <td>0</td>\n",
              "      <td>False</td>\n",
              "      <td>False</td>\n",
              "      <td>False</td>\n",
              "      <td>False</td>\n",
              "    </tr>\n",
              "    <tr>\n",
              "      <th>1</th>\n",
              "      <td>0</td>\n",
              "      <td>19</td>\n",
              "      <td>128</td>\n",
              "      <td>479</td>\n",
              "      <td>1</td>\n",
              "      <td>0.05</td>\n",
              "      <td>0.60</td>\n",
              "      <td>0.00</td>\n",
              "      <td>0</td>\n",
              "      <td>140</td>\n",
              "      <td>0</td>\n",
              "      <td>0</td>\n",
              "      <td>0</td>\n",
              "      <td>True</td>\n",
              "      <td>False</td>\n",
              "      <td>False</td>\n",
              "      <td>False</td>\n",
              "    </tr>\n",
              "    <tr>\n",
              "      <th>2</th>\n",
              "      <td>0</td>\n",
              "      <td>121</td>\n",
              "      <td>53</td>\n",
              "      <td>1567</td>\n",
              "      <td>1</td>\n",
              "      <td>0.20</td>\n",
              "      <td>0.35</td>\n",
              "      <td>0.00</td>\n",
              "      <td>67</td>\n",
              "      <td>1242</td>\n",
              "      <td>0</td>\n",
              "      <td>0</td>\n",
              "      <td>0</td>\n",
              "      <td>False</td>\n",
              "      <td>False</td>\n",
              "      <td>False</td>\n",
              "      <td>False</td>\n",
              "    </tr>\n",
              "    <tr>\n",
              "      <th>3</th>\n",
              "      <td>0</td>\n",
              "      <td>4112</td>\n",
              "      <td>710</td>\n",
              "      <td>1129</td>\n",
              "      <td>1</td>\n",
              "      <td>0.75</td>\n",
              "      <td>0.50</td>\n",
              "      <td>0.00</td>\n",
              "      <td>35</td>\n",
              "      <td>8066</td>\n",
              "      <td>3</td>\n",
              "      <td>0</td>\n",
              "      <td>0</td>\n",
              "      <td>False</td>\n",
              "      <td>False</td>\n",
              "      <td>False</td>\n",
              "      <td>False</td>\n",
              "    </tr>\n",
              "    <tr>\n",
              "      <th>4</th>\n",
              "      <td>0</td>\n",
              "      <td>304</td>\n",
              "      <td>175</td>\n",
              "      <td>3424</td>\n",
              "      <td>1</td>\n",
              "      <td>0.85</td>\n",
              "      <td>1.10</td>\n",
              "      <td>0.00</td>\n",
              "      <td>69</td>\n",
              "      <td>1525</td>\n",
              "      <td>0</td>\n",
              "      <td>0</td>\n",
              "      <td>0</td>\n",
              "      <td>True</td>\n",
              "      <td>False</td>\n",
              "      <td>False</td>\n",
              "      <td>False</td>\n",
              "    </tr>\n",
              "  </tbody>\n",
              "</table>\n",
              "</div>\n",
              "      <button class=\"colab-df-convert\" onclick=\"convertToInteractive('df-24ee119c-8c21-4443-8e45-2bac72dfe429')\"\n",
              "              title=\"Convert this dataframe to an interactive table.\"\n",
              "              style=\"display:none;\">\n",
              "        \n",
              "  <svg xmlns=\"http://www.w3.org/2000/svg\" height=\"24px\"viewBox=\"0 0 24 24\"\n",
              "       width=\"24px\">\n",
              "    <path d=\"M0 0h24v24H0V0z\" fill=\"none\"/>\n",
              "    <path d=\"M18.56 5.44l.94 2.06.94-2.06 2.06-.94-2.06-.94-.94-2.06-.94 2.06-2.06.94zm-11 1L8.5 8.5l.94-2.06 2.06-.94-2.06-.94L8.5 2.5l-.94 2.06-2.06.94zm10 10l.94 2.06.94-2.06 2.06-.94-2.06-.94-.94-2.06-.94 2.06-2.06.94z\"/><path d=\"M17.41 7.96l-1.37-1.37c-.4-.4-.92-.59-1.43-.59-.52 0-1.04.2-1.43.59L10.3 9.45l-7.72 7.72c-.78.78-.78 2.05 0 2.83L4 21.41c.39.39.9.59 1.41.59.51 0 1.02-.2 1.41-.59l7.78-7.78 2.81-2.81c.8-.78.8-2.07 0-2.86zM5.41 20L4 18.59l7.72-7.72 1.47 1.35L5.41 20z\"/>\n",
              "  </svg>\n",
              "      </button>\n",
              "      \n",
              "  <style>\n",
              "    .colab-df-container {\n",
              "      display:flex;\n",
              "      flex-wrap:wrap;\n",
              "      gap: 12px;\n",
              "    }\n",
              "\n",
              "    .colab-df-convert {\n",
              "      background-color: #E8F0FE;\n",
              "      border: none;\n",
              "      border-radius: 50%;\n",
              "      cursor: pointer;\n",
              "      display: none;\n",
              "      fill: #1967D2;\n",
              "      height: 32px;\n",
              "      padding: 0 0 0 0;\n",
              "      width: 32px;\n",
              "    }\n",
              "\n",
              "    .colab-df-convert:hover {\n",
              "      background-color: #E2EBFA;\n",
              "      box-shadow: 0px 1px 2px rgba(60, 64, 67, 0.3), 0px 1px 3px 1px rgba(60, 64, 67, 0.15);\n",
              "      fill: #174EA6;\n",
              "    }\n",
              "\n",
              "    [theme=dark] .colab-df-convert {\n",
              "      background-color: #3B4455;\n",
              "      fill: #D2E3FC;\n",
              "    }\n",
              "\n",
              "    [theme=dark] .colab-df-convert:hover {\n",
              "      background-color: #434B5C;\n",
              "      box-shadow: 0px 1px 3px 1px rgba(0, 0, 0, 0.15);\n",
              "      filter: drop-shadow(0px 1px 2px rgba(0, 0, 0, 0.3));\n",
              "      fill: #FFFFFF;\n",
              "    }\n",
              "  </style>\n",
              "\n",
              "      <script>\n",
              "        const buttonEl =\n",
              "          document.querySelector('#df-24ee119c-8c21-4443-8e45-2bac72dfe429 button.colab-df-convert');\n",
              "        buttonEl.style.display =\n",
              "          google.colab.kernel.accessAllowed ? 'block' : 'none';\n",
              "\n",
              "        async function convertToInteractive(key) {\n",
              "          const element = document.querySelector('#df-24ee119c-8c21-4443-8e45-2bac72dfe429');\n",
              "          const dataTable =\n",
              "            await google.colab.kernel.invokeFunction('convertToInteractive',\n",
              "                                                     [key], {});\n",
              "          if (!dataTable) return;\n",
              "\n",
              "          const docLinkHtml = 'Like what you see? Visit the ' +\n",
              "            '<a target=\"_blank\" href=https://colab.research.google.com/notebooks/data_table.ipynb>data table notebook</a>'\n",
              "            + ' to learn more about interactive tables.';\n",
              "          element.innerHTML = '';\n",
              "          dataTable['output_type'] = 'display_data';\n",
              "          await google.colab.output.renderOutput(dataTable, element);\n",
              "          const docLink = document.createElement('div');\n",
              "          docLink.innerHTML = docLinkHtml;\n",
              "          element.appendChild(docLink);\n",
              "        }\n",
              "      </script>\n",
              "    </div>\n",
              "  </div>\n",
              "  "
            ]
          },
          "metadata": {},
          "execution_count": 33
        }
      ]
    },
    {
      "cell_type": "code",
      "source": [
        "def_pro_encoder = LabelEncoder()\n",
        "accounts[\"'default_profile'\"] = def_pro_encoder.fit_transform(accounts[\"'default_profile'\"])\n",
        "accounts.head()"
      ],
      "metadata": {
        "colab": {
          "base_uri": "https://localhost:8080/",
          "height": 0
        },
        "id": "3GvVF98GHYK5",
        "outputId": "31a1a74c-d885-4f3b-c1c6-8beceddfc9ea"
      },
      "execution_count": 34,
      "outputs": [
        {
          "output_type": "execute_result",
          "data": {
            "text/plain": [
              "   'protected'  'followers_count'  'friends_count'  'favourites_count'  \\\n",
              "0            0               2232              414                4227   \n",
              "1            0                 19              128                 479   \n",
              "2            0                121               53                1567   \n",
              "3            0               4112              710                1129   \n",
              "4            0                304              175                3424   \n",
              "\n",
              "   'profile_use_background_image'  'hashtags_average'  'mentions_average'  \\\n",
              "0                               1                0.10                0.85   \n",
              "1                               1                0.05                0.60   \n",
              "2                               1                0.20                0.35   \n",
              "3                               1                0.75                0.50   \n",
              "4                               1                0.85                1.10   \n",
              "\n",
              "   'urls_average'  'description'  'statuses_count'  'listed_count'  \\\n",
              "0            0.35            101              3415               2   \n",
              "1            0.00              0               140               0   \n",
              "2            0.00             67              1242               0   \n",
              "3            0.00             35              8066               3   \n",
              "4            0.00             69              1525               0   \n",
              "\n",
              "   'verified'  'contributors_enabled'  'default_profile'  \\\n",
              "0           0                       0                  0   \n",
              "1           0                       0                  1   \n",
              "2           0                       0                  0   \n",
              "3           0                       0                  0   \n",
              "4           0                       0                  1   \n",
              "\n",
              "   'default_profile_image'  'is_translator'  'is_fake'  \n",
              "0                    False            False      False  \n",
              "1                    False            False      False  \n",
              "2                    False            False      False  \n",
              "3                    False            False      False  \n",
              "4                    False            False      False  "
            ],
            "text/html": [
              "\n",
              "  <div id=\"df-d97f6e20-4de0-4e99-95f1-d913f08053a0\">\n",
              "    <div class=\"colab-df-container\">\n",
              "      <div>\n",
              "<style scoped>\n",
              "    .dataframe tbody tr th:only-of-type {\n",
              "        vertical-align: middle;\n",
              "    }\n",
              "\n",
              "    .dataframe tbody tr th {\n",
              "        vertical-align: top;\n",
              "    }\n",
              "\n",
              "    .dataframe thead th {\n",
              "        text-align: right;\n",
              "    }\n",
              "</style>\n",
              "<table border=\"1\" class=\"dataframe\">\n",
              "  <thead>\n",
              "    <tr style=\"text-align: right;\">\n",
              "      <th></th>\n",
              "      <th>'protected'</th>\n",
              "      <th>'followers_count'</th>\n",
              "      <th>'friends_count'</th>\n",
              "      <th>'favourites_count'</th>\n",
              "      <th>'profile_use_background_image'</th>\n",
              "      <th>'hashtags_average'</th>\n",
              "      <th>'mentions_average'</th>\n",
              "      <th>'urls_average'</th>\n",
              "      <th>'description'</th>\n",
              "      <th>'statuses_count'</th>\n",
              "      <th>'listed_count'</th>\n",
              "      <th>'verified'</th>\n",
              "      <th>'contributors_enabled'</th>\n",
              "      <th>'default_profile'</th>\n",
              "      <th>'default_profile_image'</th>\n",
              "      <th>'is_translator'</th>\n",
              "      <th>'is_fake'</th>\n",
              "    </tr>\n",
              "  </thead>\n",
              "  <tbody>\n",
              "    <tr>\n",
              "      <th>0</th>\n",
              "      <td>0</td>\n",
              "      <td>2232</td>\n",
              "      <td>414</td>\n",
              "      <td>4227</td>\n",
              "      <td>1</td>\n",
              "      <td>0.10</td>\n",
              "      <td>0.85</td>\n",
              "      <td>0.35</td>\n",
              "      <td>101</td>\n",
              "      <td>3415</td>\n",
              "      <td>2</td>\n",
              "      <td>0</td>\n",
              "      <td>0</td>\n",
              "      <td>0</td>\n",
              "      <td>False</td>\n",
              "      <td>False</td>\n",
              "      <td>False</td>\n",
              "    </tr>\n",
              "    <tr>\n",
              "      <th>1</th>\n",
              "      <td>0</td>\n",
              "      <td>19</td>\n",
              "      <td>128</td>\n",
              "      <td>479</td>\n",
              "      <td>1</td>\n",
              "      <td>0.05</td>\n",
              "      <td>0.60</td>\n",
              "      <td>0.00</td>\n",
              "      <td>0</td>\n",
              "      <td>140</td>\n",
              "      <td>0</td>\n",
              "      <td>0</td>\n",
              "      <td>0</td>\n",
              "      <td>1</td>\n",
              "      <td>False</td>\n",
              "      <td>False</td>\n",
              "      <td>False</td>\n",
              "    </tr>\n",
              "    <tr>\n",
              "      <th>2</th>\n",
              "      <td>0</td>\n",
              "      <td>121</td>\n",
              "      <td>53</td>\n",
              "      <td>1567</td>\n",
              "      <td>1</td>\n",
              "      <td>0.20</td>\n",
              "      <td>0.35</td>\n",
              "      <td>0.00</td>\n",
              "      <td>67</td>\n",
              "      <td>1242</td>\n",
              "      <td>0</td>\n",
              "      <td>0</td>\n",
              "      <td>0</td>\n",
              "      <td>0</td>\n",
              "      <td>False</td>\n",
              "      <td>False</td>\n",
              "      <td>False</td>\n",
              "    </tr>\n",
              "    <tr>\n",
              "      <th>3</th>\n",
              "      <td>0</td>\n",
              "      <td>4112</td>\n",
              "      <td>710</td>\n",
              "      <td>1129</td>\n",
              "      <td>1</td>\n",
              "      <td>0.75</td>\n",
              "      <td>0.50</td>\n",
              "      <td>0.00</td>\n",
              "      <td>35</td>\n",
              "      <td>8066</td>\n",
              "      <td>3</td>\n",
              "      <td>0</td>\n",
              "      <td>0</td>\n",
              "      <td>0</td>\n",
              "      <td>False</td>\n",
              "      <td>False</td>\n",
              "      <td>False</td>\n",
              "    </tr>\n",
              "    <tr>\n",
              "      <th>4</th>\n",
              "      <td>0</td>\n",
              "      <td>304</td>\n",
              "      <td>175</td>\n",
              "      <td>3424</td>\n",
              "      <td>1</td>\n",
              "      <td>0.85</td>\n",
              "      <td>1.10</td>\n",
              "      <td>0.00</td>\n",
              "      <td>69</td>\n",
              "      <td>1525</td>\n",
              "      <td>0</td>\n",
              "      <td>0</td>\n",
              "      <td>0</td>\n",
              "      <td>1</td>\n",
              "      <td>False</td>\n",
              "      <td>False</td>\n",
              "      <td>False</td>\n",
              "    </tr>\n",
              "  </tbody>\n",
              "</table>\n",
              "</div>\n",
              "      <button class=\"colab-df-convert\" onclick=\"convertToInteractive('df-d97f6e20-4de0-4e99-95f1-d913f08053a0')\"\n",
              "              title=\"Convert this dataframe to an interactive table.\"\n",
              "              style=\"display:none;\">\n",
              "        \n",
              "  <svg xmlns=\"http://www.w3.org/2000/svg\" height=\"24px\"viewBox=\"0 0 24 24\"\n",
              "       width=\"24px\">\n",
              "    <path d=\"M0 0h24v24H0V0z\" fill=\"none\"/>\n",
              "    <path d=\"M18.56 5.44l.94 2.06.94-2.06 2.06-.94-2.06-.94-.94-2.06-.94 2.06-2.06.94zm-11 1L8.5 8.5l.94-2.06 2.06-.94-2.06-.94L8.5 2.5l-.94 2.06-2.06.94zm10 10l.94 2.06.94-2.06 2.06-.94-2.06-.94-.94-2.06-.94 2.06-2.06.94z\"/><path d=\"M17.41 7.96l-1.37-1.37c-.4-.4-.92-.59-1.43-.59-.52 0-1.04.2-1.43.59L10.3 9.45l-7.72 7.72c-.78.78-.78 2.05 0 2.83L4 21.41c.39.39.9.59 1.41.59.51 0 1.02-.2 1.41-.59l7.78-7.78 2.81-2.81c.8-.78.8-2.07 0-2.86zM5.41 20L4 18.59l7.72-7.72 1.47 1.35L5.41 20z\"/>\n",
              "  </svg>\n",
              "      </button>\n",
              "      \n",
              "  <style>\n",
              "    .colab-df-container {\n",
              "      display:flex;\n",
              "      flex-wrap:wrap;\n",
              "      gap: 12px;\n",
              "    }\n",
              "\n",
              "    .colab-df-convert {\n",
              "      background-color: #E8F0FE;\n",
              "      border: none;\n",
              "      border-radius: 50%;\n",
              "      cursor: pointer;\n",
              "      display: none;\n",
              "      fill: #1967D2;\n",
              "      height: 32px;\n",
              "      padding: 0 0 0 0;\n",
              "      width: 32px;\n",
              "    }\n",
              "\n",
              "    .colab-df-convert:hover {\n",
              "      background-color: #E2EBFA;\n",
              "      box-shadow: 0px 1px 2px rgba(60, 64, 67, 0.3), 0px 1px 3px 1px rgba(60, 64, 67, 0.15);\n",
              "      fill: #174EA6;\n",
              "    }\n",
              "\n",
              "    [theme=dark] .colab-df-convert {\n",
              "      background-color: #3B4455;\n",
              "      fill: #D2E3FC;\n",
              "    }\n",
              "\n",
              "    [theme=dark] .colab-df-convert:hover {\n",
              "      background-color: #434B5C;\n",
              "      box-shadow: 0px 1px 3px 1px rgba(0, 0, 0, 0.15);\n",
              "      filter: drop-shadow(0px 1px 2px rgba(0, 0, 0, 0.3));\n",
              "      fill: #FFFFFF;\n",
              "    }\n",
              "  </style>\n",
              "\n",
              "      <script>\n",
              "        const buttonEl =\n",
              "          document.querySelector('#df-d97f6e20-4de0-4e99-95f1-d913f08053a0 button.colab-df-convert');\n",
              "        buttonEl.style.display =\n",
              "          google.colab.kernel.accessAllowed ? 'block' : 'none';\n",
              "\n",
              "        async function convertToInteractive(key) {\n",
              "          const element = document.querySelector('#df-d97f6e20-4de0-4e99-95f1-d913f08053a0');\n",
              "          const dataTable =\n",
              "            await google.colab.kernel.invokeFunction('convertToInteractive',\n",
              "                                                     [key], {});\n",
              "          if (!dataTable) return;\n",
              "\n",
              "          const docLinkHtml = 'Like what you see? Visit the ' +\n",
              "            '<a target=\"_blank\" href=https://colab.research.google.com/notebooks/data_table.ipynb>data table notebook</a>'\n",
              "            + ' to learn more about interactive tables.';\n",
              "          element.innerHTML = '';\n",
              "          dataTable['output_type'] = 'display_data';\n",
              "          await google.colab.output.renderOutput(dataTable, element);\n",
              "          const docLink = document.createElement('div');\n",
              "          docLink.innerHTML = docLinkHtml;\n",
              "          element.appendChild(docLink);\n",
              "        }\n",
              "      </script>\n",
              "    </div>\n",
              "  </div>\n",
              "  "
            ]
          },
          "metadata": {},
          "execution_count": 34
        }
      ]
    },
    {
      "cell_type": "code",
      "source": [
        "img_def_pro_encoder = LabelEncoder()\n",
        "accounts[\"'default_profile_image'\"] = img_def_pro_encoder.fit_transform(accounts[\"'default_profile_image'\"])\n",
        "accounts.head()"
      ],
      "metadata": {
        "colab": {
          "base_uri": "https://localhost:8080/",
          "height": 0
        },
        "id": "ecyZsmAbHaCz",
        "outputId": "e89ce970-f2cb-4550-993b-127557644cc5"
      },
      "execution_count": 35,
      "outputs": [
        {
          "output_type": "execute_result",
          "data": {
            "text/plain": [
              "   'protected'  'followers_count'  'friends_count'  'favourites_count'  \\\n",
              "0            0               2232              414                4227   \n",
              "1            0                 19              128                 479   \n",
              "2            0                121               53                1567   \n",
              "3            0               4112              710                1129   \n",
              "4            0                304              175                3424   \n",
              "\n",
              "   'profile_use_background_image'  'hashtags_average'  'mentions_average'  \\\n",
              "0                               1                0.10                0.85   \n",
              "1                               1                0.05                0.60   \n",
              "2                               1                0.20                0.35   \n",
              "3                               1                0.75                0.50   \n",
              "4                               1                0.85                1.10   \n",
              "\n",
              "   'urls_average'  'description'  'statuses_count'  'listed_count'  \\\n",
              "0            0.35            101              3415               2   \n",
              "1            0.00              0               140               0   \n",
              "2            0.00             67              1242               0   \n",
              "3            0.00             35              8066               3   \n",
              "4            0.00             69              1525               0   \n",
              "\n",
              "   'verified'  'contributors_enabled'  'default_profile'  \\\n",
              "0           0                       0                  0   \n",
              "1           0                       0                  1   \n",
              "2           0                       0                  0   \n",
              "3           0                       0                  0   \n",
              "4           0                       0                  1   \n",
              "\n",
              "   'default_profile_image'  'is_translator'  'is_fake'  \n",
              "0                        0            False      False  \n",
              "1                        0            False      False  \n",
              "2                        0            False      False  \n",
              "3                        0            False      False  \n",
              "4                        0            False      False  "
            ],
            "text/html": [
              "\n",
              "  <div id=\"df-7e28a6e7-59d2-4261-8c7a-a281e6d0b445\">\n",
              "    <div class=\"colab-df-container\">\n",
              "      <div>\n",
              "<style scoped>\n",
              "    .dataframe tbody tr th:only-of-type {\n",
              "        vertical-align: middle;\n",
              "    }\n",
              "\n",
              "    .dataframe tbody tr th {\n",
              "        vertical-align: top;\n",
              "    }\n",
              "\n",
              "    .dataframe thead th {\n",
              "        text-align: right;\n",
              "    }\n",
              "</style>\n",
              "<table border=\"1\" class=\"dataframe\">\n",
              "  <thead>\n",
              "    <tr style=\"text-align: right;\">\n",
              "      <th></th>\n",
              "      <th>'protected'</th>\n",
              "      <th>'followers_count'</th>\n",
              "      <th>'friends_count'</th>\n",
              "      <th>'favourites_count'</th>\n",
              "      <th>'profile_use_background_image'</th>\n",
              "      <th>'hashtags_average'</th>\n",
              "      <th>'mentions_average'</th>\n",
              "      <th>'urls_average'</th>\n",
              "      <th>'description'</th>\n",
              "      <th>'statuses_count'</th>\n",
              "      <th>'listed_count'</th>\n",
              "      <th>'verified'</th>\n",
              "      <th>'contributors_enabled'</th>\n",
              "      <th>'default_profile'</th>\n",
              "      <th>'default_profile_image'</th>\n",
              "      <th>'is_translator'</th>\n",
              "      <th>'is_fake'</th>\n",
              "    </tr>\n",
              "  </thead>\n",
              "  <tbody>\n",
              "    <tr>\n",
              "      <th>0</th>\n",
              "      <td>0</td>\n",
              "      <td>2232</td>\n",
              "      <td>414</td>\n",
              "      <td>4227</td>\n",
              "      <td>1</td>\n",
              "      <td>0.10</td>\n",
              "      <td>0.85</td>\n",
              "      <td>0.35</td>\n",
              "      <td>101</td>\n",
              "      <td>3415</td>\n",
              "      <td>2</td>\n",
              "      <td>0</td>\n",
              "      <td>0</td>\n",
              "      <td>0</td>\n",
              "      <td>0</td>\n",
              "      <td>False</td>\n",
              "      <td>False</td>\n",
              "    </tr>\n",
              "    <tr>\n",
              "      <th>1</th>\n",
              "      <td>0</td>\n",
              "      <td>19</td>\n",
              "      <td>128</td>\n",
              "      <td>479</td>\n",
              "      <td>1</td>\n",
              "      <td>0.05</td>\n",
              "      <td>0.60</td>\n",
              "      <td>0.00</td>\n",
              "      <td>0</td>\n",
              "      <td>140</td>\n",
              "      <td>0</td>\n",
              "      <td>0</td>\n",
              "      <td>0</td>\n",
              "      <td>1</td>\n",
              "      <td>0</td>\n",
              "      <td>False</td>\n",
              "      <td>False</td>\n",
              "    </tr>\n",
              "    <tr>\n",
              "      <th>2</th>\n",
              "      <td>0</td>\n",
              "      <td>121</td>\n",
              "      <td>53</td>\n",
              "      <td>1567</td>\n",
              "      <td>1</td>\n",
              "      <td>0.20</td>\n",
              "      <td>0.35</td>\n",
              "      <td>0.00</td>\n",
              "      <td>67</td>\n",
              "      <td>1242</td>\n",
              "      <td>0</td>\n",
              "      <td>0</td>\n",
              "      <td>0</td>\n",
              "      <td>0</td>\n",
              "      <td>0</td>\n",
              "      <td>False</td>\n",
              "      <td>False</td>\n",
              "    </tr>\n",
              "    <tr>\n",
              "      <th>3</th>\n",
              "      <td>0</td>\n",
              "      <td>4112</td>\n",
              "      <td>710</td>\n",
              "      <td>1129</td>\n",
              "      <td>1</td>\n",
              "      <td>0.75</td>\n",
              "      <td>0.50</td>\n",
              "      <td>0.00</td>\n",
              "      <td>35</td>\n",
              "      <td>8066</td>\n",
              "      <td>3</td>\n",
              "      <td>0</td>\n",
              "      <td>0</td>\n",
              "      <td>0</td>\n",
              "      <td>0</td>\n",
              "      <td>False</td>\n",
              "      <td>False</td>\n",
              "    </tr>\n",
              "    <tr>\n",
              "      <th>4</th>\n",
              "      <td>0</td>\n",
              "      <td>304</td>\n",
              "      <td>175</td>\n",
              "      <td>3424</td>\n",
              "      <td>1</td>\n",
              "      <td>0.85</td>\n",
              "      <td>1.10</td>\n",
              "      <td>0.00</td>\n",
              "      <td>69</td>\n",
              "      <td>1525</td>\n",
              "      <td>0</td>\n",
              "      <td>0</td>\n",
              "      <td>0</td>\n",
              "      <td>1</td>\n",
              "      <td>0</td>\n",
              "      <td>False</td>\n",
              "      <td>False</td>\n",
              "    </tr>\n",
              "  </tbody>\n",
              "</table>\n",
              "</div>\n",
              "      <button class=\"colab-df-convert\" onclick=\"convertToInteractive('df-7e28a6e7-59d2-4261-8c7a-a281e6d0b445')\"\n",
              "              title=\"Convert this dataframe to an interactive table.\"\n",
              "              style=\"display:none;\">\n",
              "        \n",
              "  <svg xmlns=\"http://www.w3.org/2000/svg\" height=\"24px\"viewBox=\"0 0 24 24\"\n",
              "       width=\"24px\">\n",
              "    <path d=\"M0 0h24v24H0V0z\" fill=\"none\"/>\n",
              "    <path d=\"M18.56 5.44l.94 2.06.94-2.06 2.06-.94-2.06-.94-.94-2.06-.94 2.06-2.06.94zm-11 1L8.5 8.5l.94-2.06 2.06-.94-2.06-.94L8.5 2.5l-.94 2.06-2.06.94zm10 10l.94 2.06.94-2.06 2.06-.94-2.06-.94-.94-2.06-.94 2.06-2.06.94z\"/><path d=\"M17.41 7.96l-1.37-1.37c-.4-.4-.92-.59-1.43-.59-.52 0-1.04.2-1.43.59L10.3 9.45l-7.72 7.72c-.78.78-.78 2.05 0 2.83L4 21.41c.39.39.9.59 1.41.59.51 0 1.02-.2 1.41-.59l7.78-7.78 2.81-2.81c.8-.78.8-2.07 0-2.86zM5.41 20L4 18.59l7.72-7.72 1.47 1.35L5.41 20z\"/>\n",
              "  </svg>\n",
              "      </button>\n",
              "      \n",
              "  <style>\n",
              "    .colab-df-container {\n",
              "      display:flex;\n",
              "      flex-wrap:wrap;\n",
              "      gap: 12px;\n",
              "    }\n",
              "\n",
              "    .colab-df-convert {\n",
              "      background-color: #E8F0FE;\n",
              "      border: none;\n",
              "      border-radius: 50%;\n",
              "      cursor: pointer;\n",
              "      display: none;\n",
              "      fill: #1967D2;\n",
              "      height: 32px;\n",
              "      padding: 0 0 0 0;\n",
              "      width: 32px;\n",
              "    }\n",
              "\n",
              "    .colab-df-convert:hover {\n",
              "      background-color: #E2EBFA;\n",
              "      box-shadow: 0px 1px 2px rgba(60, 64, 67, 0.3), 0px 1px 3px 1px rgba(60, 64, 67, 0.15);\n",
              "      fill: #174EA6;\n",
              "    }\n",
              "\n",
              "    [theme=dark] .colab-df-convert {\n",
              "      background-color: #3B4455;\n",
              "      fill: #D2E3FC;\n",
              "    }\n",
              "\n",
              "    [theme=dark] .colab-df-convert:hover {\n",
              "      background-color: #434B5C;\n",
              "      box-shadow: 0px 1px 3px 1px rgba(0, 0, 0, 0.15);\n",
              "      filter: drop-shadow(0px 1px 2px rgba(0, 0, 0, 0.3));\n",
              "      fill: #FFFFFF;\n",
              "    }\n",
              "  </style>\n",
              "\n",
              "      <script>\n",
              "        const buttonEl =\n",
              "          document.querySelector('#df-7e28a6e7-59d2-4261-8c7a-a281e6d0b445 button.colab-df-convert');\n",
              "        buttonEl.style.display =\n",
              "          google.colab.kernel.accessAllowed ? 'block' : 'none';\n",
              "\n",
              "        async function convertToInteractive(key) {\n",
              "          const element = document.querySelector('#df-7e28a6e7-59d2-4261-8c7a-a281e6d0b445');\n",
              "          const dataTable =\n",
              "            await google.colab.kernel.invokeFunction('convertToInteractive',\n",
              "                                                     [key], {});\n",
              "          if (!dataTable) return;\n",
              "\n",
              "          const docLinkHtml = 'Like what you see? Visit the ' +\n",
              "            '<a target=\"_blank\" href=https://colab.research.google.com/notebooks/data_table.ipynb>data table notebook</a>'\n",
              "            + ' to learn more about interactive tables.';\n",
              "          element.innerHTML = '';\n",
              "          dataTable['output_type'] = 'display_data';\n",
              "          await google.colab.output.renderOutput(dataTable, element);\n",
              "          const docLink = document.createElement('div');\n",
              "          docLink.innerHTML = docLinkHtml;\n",
              "          element.appendChild(docLink);\n",
              "        }\n",
              "      </script>\n",
              "    </div>\n",
              "  </div>\n",
              "  "
            ]
          },
          "metadata": {},
          "execution_count": 35
        }
      ]
    },
    {
      "cell_type": "code",
      "source": [
        "trans_encoder = LabelEncoder()\n",
        "accounts[\"'is_translator'\"] = trans_encoder.fit_transform(accounts[\"'is_translator'\"])\n",
        "accounts.head()"
      ],
      "metadata": {
        "colab": {
          "base_uri": "https://localhost:8080/",
          "height": 0
        },
        "id": "pCmgidvDHdPe",
        "outputId": "f6694054-1d48-4df1-eec5-fff9ff6965aa"
      },
      "execution_count": 36,
      "outputs": [
        {
          "output_type": "execute_result",
          "data": {
            "text/plain": [
              "   'protected'  'followers_count'  'friends_count'  'favourites_count'  \\\n",
              "0            0               2232              414                4227   \n",
              "1            0                 19              128                 479   \n",
              "2            0                121               53                1567   \n",
              "3            0               4112              710                1129   \n",
              "4            0                304              175                3424   \n",
              "\n",
              "   'profile_use_background_image'  'hashtags_average'  'mentions_average'  \\\n",
              "0                               1                0.10                0.85   \n",
              "1                               1                0.05                0.60   \n",
              "2                               1                0.20                0.35   \n",
              "3                               1                0.75                0.50   \n",
              "4                               1                0.85                1.10   \n",
              "\n",
              "   'urls_average'  'description'  'statuses_count'  'listed_count'  \\\n",
              "0            0.35            101              3415               2   \n",
              "1            0.00              0               140               0   \n",
              "2            0.00             67              1242               0   \n",
              "3            0.00             35              8066               3   \n",
              "4            0.00             69              1525               0   \n",
              "\n",
              "   'verified'  'contributors_enabled'  'default_profile'  \\\n",
              "0           0                       0                  0   \n",
              "1           0                       0                  1   \n",
              "2           0                       0                  0   \n",
              "3           0                       0                  0   \n",
              "4           0                       0                  1   \n",
              "\n",
              "   'default_profile_image'  'is_translator'  'is_fake'  \n",
              "0                        0                0      False  \n",
              "1                        0                0      False  \n",
              "2                        0                0      False  \n",
              "3                        0                0      False  \n",
              "4                        0                0      False  "
            ],
            "text/html": [
              "\n",
              "  <div id=\"df-70941af2-d69d-4384-b093-3304a410cc13\">\n",
              "    <div class=\"colab-df-container\">\n",
              "      <div>\n",
              "<style scoped>\n",
              "    .dataframe tbody tr th:only-of-type {\n",
              "        vertical-align: middle;\n",
              "    }\n",
              "\n",
              "    .dataframe tbody tr th {\n",
              "        vertical-align: top;\n",
              "    }\n",
              "\n",
              "    .dataframe thead th {\n",
              "        text-align: right;\n",
              "    }\n",
              "</style>\n",
              "<table border=\"1\" class=\"dataframe\">\n",
              "  <thead>\n",
              "    <tr style=\"text-align: right;\">\n",
              "      <th></th>\n",
              "      <th>'protected'</th>\n",
              "      <th>'followers_count'</th>\n",
              "      <th>'friends_count'</th>\n",
              "      <th>'favourites_count'</th>\n",
              "      <th>'profile_use_background_image'</th>\n",
              "      <th>'hashtags_average'</th>\n",
              "      <th>'mentions_average'</th>\n",
              "      <th>'urls_average'</th>\n",
              "      <th>'description'</th>\n",
              "      <th>'statuses_count'</th>\n",
              "      <th>'listed_count'</th>\n",
              "      <th>'verified'</th>\n",
              "      <th>'contributors_enabled'</th>\n",
              "      <th>'default_profile'</th>\n",
              "      <th>'default_profile_image'</th>\n",
              "      <th>'is_translator'</th>\n",
              "      <th>'is_fake'</th>\n",
              "    </tr>\n",
              "  </thead>\n",
              "  <tbody>\n",
              "    <tr>\n",
              "      <th>0</th>\n",
              "      <td>0</td>\n",
              "      <td>2232</td>\n",
              "      <td>414</td>\n",
              "      <td>4227</td>\n",
              "      <td>1</td>\n",
              "      <td>0.10</td>\n",
              "      <td>0.85</td>\n",
              "      <td>0.35</td>\n",
              "      <td>101</td>\n",
              "      <td>3415</td>\n",
              "      <td>2</td>\n",
              "      <td>0</td>\n",
              "      <td>0</td>\n",
              "      <td>0</td>\n",
              "      <td>0</td>\n",
              "      <td>0</td>\n",
              "      <td>False</td>\n",
              "    </tr>\n",
              "    <tr>\n",
              "      <th>1</th>\n",
              "      <td>0</td>\n",
              "      <td>19</td>\n",
              "      <td>128</td>\n",
              "      <td>479</td>\n",
              "      <td>1</td>\n",
              "      <td>0.05</td>\n",
              "      <td>0.60</td>\n",
              "      <td>0.00</td>\n",
              "      <td>0</td>\n",
              "      <td>140</td>\n",
              "      <td>0</td>\n",
              "      <td>0</td>\n",
              "      <td>0</td>\n",
              "      <td>1</td>\n",
              "      <td>0</td>\n",
              "      <td>0</td>\n",
              "      <td>False</td>\n",
              "    </tr>\n",
              "    <tr>\n",
              "      <th>2</th>\n",
              "      <td>0</td>\n",
              "      <td>121</td>\n",
              "      <td>53</td>\n",
              "      <td>1567</td>\n",
              "      <td>1</td>\n",
              "      <td>0.20</td>\n",
              "      <td>0.35</td>\n",
              "      <td>0.00</td>\n",
              "      <td>67</td>\n",
              "      <td>1242</td>\n",
              "      <td>0</td>\n",
              "      <td>0</td>\n",
              "      <td>0</td>\n",
              "      <td>0</td>\n",
              "      <td>0</td>\n",
              "      <td>0</td>\n",
              "      <td>False</td>\n",
              "    </tr>\n",
              "    <tr>\n",
              "      <th>3</th>\n",
              "      <td>0</td>\n",
              "      <td>4112</td>\n",
              "      <td>710</td>\n",
              "      <td>1129</td>\n",
              "      <td>1</td>\n",
              "      <td>0.75</td>\n",
              "      <td>0.50</td>\n",
              "      <td>0.00</td>\n",
              "      <td>35</td>\n",
              "      <td>8066</td>\n",
              "      <td>3</td>\n",
              "      <td>0</td>\n",
              "      <td>0</td>\n",
              "      <td>0</td>\n",
              "      <td>0</td>\n",
              "      <td>0</td>\n",
              "      <td>False</td>\n",
              "    </tr>\n",
              "    <tr>\n",
              "      <th>4</th>\n",
              "      <td>0</td>\n",
              "      <td>304</td>\n",
              "      <td>175</td>\n",
              "      <td>3424</td>\n",
              "      <td>1</td>\n",
              "      <td>0.85</td>\n",
              "      <td>1.10</td>\n",
              "      <td>0.00</td>\n",
              "      <td>69</td>\n",
              "      <td>1525</td>\n",
              "      <td>0</td>\n",
              "      <td>0</td>\n",
              "      <td>0</td>\n",
              "      <td>1</td>\n",
              "      <td>0</td>\n",
              "      <td>0</td>\n",
              "      <td>False</td>\n",
              "    </tr>\n",
              "  </tbody>\n",
              "</table>\n",
              "</div>\n",
              "      <button class=\"colab-df-convert\" onclick=\"convertToInteractive('df-70941af2-d69d-4384-b093-3304a410cc13')\"\n",
              "              title=\"Convert this dataframe to an interactive table.\"\n",
              "              style=\"display:none;\">\n",
              "        \n",
              "  <svg xmlns=\"http://www.w3.org/2000/svg\" height=\"24px\"viewBox=\"0 0 24 24\"\n",
              "       width=\"24px\">\n",
              "    <path d=\"M0 0h24v24H0V0z\" fill=\"none\"/>\n",
              "    <path d=\"M18.56 5.44l.94 2.06.94-2.06 2.06-.94-2.06-.94-.94-2.06-.94 2.06-2.06.94zm-11 1L8.5 8.5l.94-2.06 2.06-.94-2.06-.94L8.5 2.5l-.94 2.06-2.06.94zm10 10l.94 2.06.94-2.06 2.06-.94-2.06-.94-.94-2.06-.94 2.06-2.06.94z\"/><path d=\"M17.41 7.96l-1.37-1.37c-.4-.4-.92-.59-1.43-.59-.52 0-1.04.2-1.43.59L10.3 9.45l-7.72 7.72c-.78.78-.78 2.05 0 2.83L4 21.41c.39.39.9.59 1.41.59.51 0 1.02-.2 1.41-.59l7.78-7.78 2.81-2.81c.8-.78.8-2.07 0-2.86zM5.41 20L4 18.59l7.72-7.72 1.47 1.35L5.41 20z\"/>\n",
              "  </svg>\n",
              "      </button>\n",
              "      \n",
              "  <style>\n",
              "    .colab-df-container {\n",
              "      display:flex;\n",
              "      flex-wrap:wrap;\n",
              "      gap: 12px;\n",
              "    }\n",
              "\n",
              "    .colab-df-convert {\n",
              "      background-color: #E8F0FE;\n",
              "      border: none;\n",
              "      border-radius: 50%;\n",
              "      cursor: pointer;\n",
              "      display: none;\n",
              "      fill: #1967D2;\n",
              "      height: 32px;\n",
              "      padding: 0 0 0 0;\n",
              "      width: 32px;\n",
              "    }\n",
              "\n",
              "    .colab-df-convert:hover {\n",
              "      background-color: #E2EBFA;\n",
              "      box-shadow: 0px 1px 2px rgba(60, 64, 67, 0.3), 0px 1px 3px 1px rgba(60, 64, 67, 0.15);\n",
              "      fill: #174EA6;\n",
              "    }\n",
              "\n",
              "    [theme=dark] .colab-df-convert {\n",
              "      background-color: #3B4455;\n",
              "      fill: #D2E3FC;\n",
              "    }\n",
              "\n",
              "    [theme=dark] .colab-df-convert:hover {\n",
              "      background-color: #434B5C;\n",
              "      box-shadow: 0px 1px 3px 1px rgba(0, 0, 0, 0.15);\n",
              "      filter: drop-shadow(0px 1px 2px rgba(0, 0, 0, 0.3));\n",
              "      fill: #FFFFFF;\n",
              "    }\n",
              "  </style>\n",
              "\n",
              "      <script>\n",
              "        const buttonEl =\n",
              "          document.querySelector('#df-70941af2-d69d-4384-b093-3304a410cc13 button.colab-df-convert');\n",
              "        buttonEl.style.display =\n",
              "          google.colab.kernel.accessAllowed ? 'block' : 'none';\n",
              "\n",
              "        async function convertToInteractive(key) {\n",
              "          const element = document.querySelector('#df-70941af2-d69d-4384-b093-3304a410cc13');\n",
              "          const dataTable =\n",
              "            await google.colab.kernel.invokeFunction('convertToInteractive',\n",
              "                                                     [key], {});\n",
              "          if (!dataTable) return;\n",
              "\n",
              "          const docLinkHtml = 'Like what you see? Visit the ' +\n",
              "            '<a target=\"_blank\" href=https://colab.research.google.com/notebooks/data_table.ipynb>data table notebook</a>'\n",
              "            + ' to learn more about interactive tables.';\n",
              "          element.innerHTML = '';\n",
              "          dataTable['output_type'] = 'display_data';\n",
              "          await google.colab.output.renderOutput(dataTable, element);\n",
              "          const docLink = document.createElement('div');\n",
              "          docLink.innerHTML = docLinkHtml;\n",
              "          element.appendChild(docLink);\n",
              "        }\n",
              "      </script>\n",
              "    </div>\n",
              "  </div>\n",
              "  "
            ]
          },
          "metadata": {},
          "execution_count": 36
        }
      ]
    },
    {
      "cell_type": "code",
      "source": [],
      "metadata": {
        "id": "0JAKbDYKHpTd"
      },
      "execution_count": 36,
      "outputs": []
    },
    {
      "cell_type": "code",
      "source": [],
      "metadata": {
        "id": "RkM24zUMQh0u"
      },
      "execution_count": 36,
      "outputs": []
    },
    {
      "cell_type": "markdown",
      "source": [
        "#Data Preprocessing"
      ],
      "metadata": {
        "id": "AeR4ZfudLXpk"
      }
    },
    {
      "cell_type": "markdown",
      "source": [
        "\n",
        "\n",
        "1.   Sepatae Class from features\n",
        "\n"
      ],
      "metadata": {
        "id": "iJLPSJeSLdlJ"
      }
    },
    {
      "cell_type": "code",
      "source": [
        "accounts_features = accounts.drop(\"'is_fake'\" , axis=1)\n",
        "accounts_labels = accounts[\"'is_fake'\"]"
      ],
      "metadata": {
        "id": "OYCR8YQnHfzl"
      },
      "execution_count": 37,
      "outputs": []
    },
    {
      "cell_type": "markdown",
      "source": [
        "2.  Scale Features"
      ],
      "metadata": {
        "id": "JoBLFbR4Lnk6"
      }
    },
    {
      "cell_type": "markdown",
      "source": [
        "Scaling data means to make all values in all variables within the same range (around 0-1)"
      ],
      "metadata": {
        "id": "D97RIwCBLto5"
      }
    },
    {
      "cell_type": "code",
      "source": [
        "scaler = StandardScaler()\n",
        "\n",
        "accounts_features_scaled = scaler.fit_transform(accounts_features)\n"
      ],
      "metadata": {
        "id": "yN76R1qZLy4I"
      },
      "execution_count": 38,
      "outputs": []
    },
    {
      "cell_type": "markdown",
      "source": [
        "3.  Data Splitting"
      ],
      "metadata": {
        "id": "wIWLnJ1BL5VI"
      }
    },
    {
      "cell_type": "code",
      "source": [
        "tr_val_f, test_features, tr_val_l, test_labels = train_test_split(\n",
        "    accounts_features_scaled, accounts_labels, test_size = 0.3, stratify = accounts_labels)"
      ],
      "metadata": {
        "id": "A9nzVKRKL85n"
      },
      "execution_count": 59,
      "outputs": []
    },
    {
      "cell_type": "code",
      "source": [
        "train_features, val_features, train_labels, val_labels = train_test_split(\n",
        "    tr_val_f, tr_val_l, test_size = len(test_labels), stratify = tr_val_l)"
      ],
      "metadata": {
        "id": "wgTx2rasL_wC"
      },
      "execution_count": 60,
      "outputs": []
    },
    {
      "cell_type": "code",
      "source": [
        "train_features.shape, train_labels.shape, val_features.shape, val_labels.shape, test_features.shape,   test_labels.shape"
      ],
      "metadata": {
        "colab": {
          "base_uri": "https://localhost:8080/"
        },
        "id": "RytR7OI5MCMI",
        "outputId": "6b796a6d-fbf6-4889-a49d-bb24013aff2e"
      },
      "execution_count": 61,
      "outputs": [
        {
          "output_type": "execute_result",
          "data": {
            "text/plain": [
              "((400, 16), (400,), (300, 16), (300,), (300, 16), (300,))"
            ]
          },
          "metadata": {},
          "execution_count": 61
        }
      ]
    },
    {
      "cell_type": "markdown",
      "source": [
        "#RSA"
      ],
      "metadata": {
        "id": "1EVrwpXEZJEk"
      }
    },
    {
      "cell_type": "markdown",
      "source": [
        "initX is a function to initialize our population, where :    \n",
        "![image.png](data:image/png;base64,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)\n",
        "*  dim : the number of colunms,\n",
        "*  Lb, Ub : number of bounderies\n",
        "*  N : number of rows.\n",
        "*  Pram : arrays of the hyperparameters"
      ],
      "metadata": {
        "id": "KEgMQbZ1PmJA"
      }
    },
    {
      "cell_type": "code",
      "source": [
        "def initX(dim , Lb, Ub , N , *Pram):\n",
        "  X=np.zeros((N,dim))\n",
        "  i=0\n",
        "  \n",
        "  for p in Pram:\n",
        "    for j in range (len(p)):\n",
        "      #print(p[j])\n",
        "      X[i,j]=p[j]*(Ub-Lb)+Lb\n",
        "    i=i+1\n",
        "    \n",
        "  X=X.transpose()\n",
        "  return X"
      ],
      "metadata": {
        "id": "wRxvOKo-M25l"
      },
      "execution_count": 17,
      "outputs": []
    },
    {
      "cell_type": "markdown",
      "source": [
        "F_get() defines the first four fuctions of the 23 classical test functions"
      ],
      "metadata": {
        "id": "kuzcM3t7Qj4o"
      }
    },
    {
      "cell_type": "code",
      "source": [
        "def F_get(Foo , x):\n",
        "  if Foo =='F1':\n",
        "      return {\n",
        "          \"o\" : np.sum(x),\n",
        "          \"Lb\" : -100,\n",
        "          \"Ub\" : 100,\n",
        "          \"Dim\" : 10,\n",
        "      }\n",
        "  elif Foo == 'F2':\n",
        "      return {\n",
        "          \"o\" : np.sum(abs(x)) + np.prod(abs(x)),        \n",
        "          \"Lb\" : -10,\n",
        "          \"Ub\" : 10,\n",
        "          \"Dim\" : 10, \n",
        "      }\n",
        "  elif Foo == 'F3':\n",
        "      o=0\n",
        "      for i in range(len(x)):\n",
        "        o=o+np.sum(x)**2\n",
        "      return { \n",
        "          \"o\" : o,        \n",
        "          \"Lb\" : -100,\n",
        "          \"Ub\" : 100,\n",
        "          \"Dim\" : 10, \n",
        "      }\n",
        "  elif Foo == 'F4':\n",
        "      o = np.maximum(np.absolute(x))\n",
        "      return { \n",
        "          \"o\" : o,         \n",
        "          \"Lb\" : -100,\n",
        "          \"Ub\" : 100,\n",
        "          \"Dim\" : 10, \n",
        "      }"
      ],
      "metadata": {
        "id": "m2ybCO3qQ6DB"
      },
      "execution_count": 18,
      "outputs": []
    },
    {
      "cell_type": "markdown",
      "source": [
        "RSA() is reptile search algorithme where:"
      ],
      "metadata": {
        "id": "USBJvMLSRNPM"
      }
    },
    {
      "cell_type": "code",
      "source": [
        "import numpy as np\n",
        "import random as rd\n",
        "\n",
        "\n",
        "\n",
        "def RSA (N , T , Lb , Ub  , Dim , SF_obj , population):\n",
        "  \n",
        "  Best_F = 9999999999999999999  #best fitness\n",
        "  X= population                 # init the positions\n",
        "  Best_P = np.zeros(len(X[1]))  #best position\n",
        "  Xnew= X\n",
        "  \n",
        "\n",
        "\n",
        "\n",
        "  t= 0                     #starting iteration\n",
        "  alpha= 0.1                 # alpha=0.1\n",
        "  beta= 0.005                 # beta = 0.005\n",
        "  Ffun = np.zeros(len(X))  \n",
        "  Ffun_new = np.zeros(len(X))\n",
        "  eps= np.finfo(np.float64).eps\n",
        "  #eps=0\n",
        "  \n",
        "  \n",
        "\n",
        "\n",
        "  #Calculate the fitness\n",
        "  for i in range(len(X)):\n",
        "    F_obj = F_get(SF_obj , X[i])[\"o\"]\n",
        "    Ffun[i] = F_obj\n",
        "    if Ffun[i] < Best_F:\n",
        "      Best_F = Ffun[i]\n",
        "      Best_P = X[i]\n",
        "      \n",
        "\n",
        "  while t < T+1 :         #update postion of solutions\n",
        "    ES = 2 * rd.uniform(-1,1) *(1-(t/T))\n",
        "    for i in range(2,len(X)):\n",
        "      for j in range(len(X[1])):\n",
        "        R=Best_P[j]-X[rd.randint(1 ,len(X))-1 , j]/((Best_P[j])+eps)\n",
        "        P=alpha+(X[i,j]-np.mean(X[i]))/(Best_P[j]*(Ub-Lb)+eps)\n",
        "        Eta=Best_P[j]*P\n",
        "\n",
        "        if t<T/4:\n",
        "          Xnew[i,j]=Best_P[j] - Eta*beta-R*np.random.uniform(-1,1)\n",
        "        elif t<2*T/4 and t>=T/4:\n",
        "          Xnew[i,j]=Best_P[j]*X[np.random.randint(1,len(X)) ,j]*eps*np.random.uniform(-1,1)\n",
        "        elif t<3*T/4 and t>=2*T/4:\n",
        "          Xnew[i,j]=Best_P[j]*P*np.random.uniform(-1,1)\n",
        "        else :\n",
        "          Xnew[i,j]=Best_P[j]-Eta*eps-R*np.random.uniform(-1,1)\n",
        "        \n",
        "        #check if the new values exceed the boundaries\n",
        "        \n",
        "        Flag_Ub = Ub\n",
        "        #print(Flag_Ub)\n",
        "        \n",
        "        Flag_Lb = Lb\n",
        "        #print(Flag_Lb)\n",
        "\n",
        "        Xnew[i] = (((np.multiply(Xnew[i] ,(Flag_Ub+Flag_Lb))+ np.multiply(Ub , Flag_Ub) + np.multiply(Lb, Flag_Lb)))-Lb)/(Ub-Lb)\n",
        "        F_obj=F_get(SF_obj , Xnew[i])[\"o\"]\n",
        "        Ffun_new[i] = F_obj\n",
        "\n",
        "        if Ffun_new[i]<Ffun[i]:\n",
        "          X[i]=Xnew[i]\n",
        "          Ffun[i]=Ffun_new[i]\n",
        "\n",
        "        if Ffun[i]<Best_F:\n",
        "          Best_F=Ffun[i]\n",
        "          Best_P=Xnew[i]\n",
        "\n",
        "      #convp[t]= Best_F\n",
        "\n",
        "      t=t+1\n",
        "  print('best positions are :',Best_P)\n",
        "\n",
        "\n",
        "\n",
        "\n"
      ],
      "metadata": {
        "id": "4mGfAi7IRVtn"
      },
      "execution_count": 80,
      "outputs": []
    },
    {
      "cell_type": "code",
      "source": [
        "population=initX(5,1 , 100 , 3, [10, 15, 20, 25, 30], [5, 10, 15, 20, 25],[1, 2, 3, 4, 5])\n",
        "RSA(5,500,1,100,10,'F3',population)"
      ],
      "metadata": {
        "colab": {
          "base_uri": "https://localhost:8080/"
        },
        "id": "jxntD6KMUDLg",
        "outputId": "29f8102b-84c5-404f-be1c-f3ffe7951903"
      },
      "execution_count": 81,
      "outputs": [
        {
          "output_type": "stream",
          "name": "stdout",
          "text": [
            "best positions are : [3969.77672602 5085.02250833  222.00877934]\n"
          ]
        }
      ]
    },
    {
      "cell_type": "code",
      "source": [
        "popula =initX(4,1 , 10 , 2, [0.1,1,10,100], [0.0001 , 10 ,1 , 0.1])\n",
        "print(popula)\n",
        "\n",
        "RSA(4,500,1,100,10,'F3',popula)"
      ],
      "metadata": {
        "colab": {
          "base_uri": "https://localhost:8080/"
        },
        "id": "ZhBYbqzDWaOV",
        "outputId": "83c9cbd5-685a-4521-ed5f-ac031f58e0bc"
      },
      "execution_count": 82,
      "outputs": [
        {
          "output_type": "stream",
          "name": "stdout",
          "text": [
            "[[  1.9      1.0009]\n",
            " [ 10.      91.    ]\n",
            " [ 91.      10.    ]\n",
            " [901.       1.9   ]]\n",
            "best positions are : [1.9    1.0009]\n"
          ]
        }
      ]
    },
    {
      "cell_type": "markdown",
      "source": [
        "#Modelling"
      ],
      "metadata": {
        "id": "rDfILKBmMGEc"
      }
    },
    {
      "cell_type": "markdown",
      "source": [
        "to train our model we will use:\n",
        "1. Random Forest Classifier\n",
        "  *  tunned with GridSearch\n",
        "  *  tunned with RSA\n",
        "2. SVM\n",
        "  * without tunning\n",
        "  * tunned using RSA "
      ],
      "metadata": {
        "id": "mUrfTxAIMMHq"
      }
    },
    {
      "cell_type": "code",
      "source": [
        "f1 = make_scorer(f1_score, average = \"weighted\")"
      ],
      "metadata": {
        "id": "bJxqntF6Zt0f"
      },
      "execution_count": 42,
      "outputs": []
    },
    {
      "cell_type": "markdown",
      "source": [
        "**Random Forest using Grid Search**"
      ],
      "metadata": {
        "id": "XPxBX3uLZhqa"
      }
    },
    {
      "cell_type": "code",
      "source": [
        "params = {\n",
        "    \"n_estimators\": [10, 15, 20, 25, 30, 35],\n",
        "    \"max_depth\": [5, 10, 15, 20, 25],\n",
        "    \"min_samples_leaf\": [1, 2, 3, 4, 5]\n",
        "}"
      ],
      "metadata": {
        "id": "3stJJdnNMs4N"
      },
      "execution_count": 43,
      "outputs": []
    },
    {
      "cell_type": "code",
      "source": [
        "grid_search = GridSearchCV(RandomForestClassifier(), param_grid = params, scoring = f1, cv = 5)"
      ],
      "metadata": {
        "id": "xRrxb41-ZzJd"
      },
      "execution_count": 44,
      "outputs": []
    },
    {
      "cell_type": "code",
      "source": [
        "grid_search.fit(train_features, train_labels)"
      ],
      "metadata": {
        "id": "6C8Vdk1IZ1Z5",
        "colab": {
          "base_uri": "https://localhost:8080/"
        },
        "outputId": "4f333643-3a04-4cda-932b-e17fa7a2dff6"
      },
      "execution_count": 63,
      "outputs": [
        {
          "output_type": "execute_result",
          "data": {
            "text/plain": [
              "GridSearchCV(cv=5, estimator=RandomForestClassifier(),\n",
              "             param_grid={'max_depth': [5, 10, 15, 20, 25],\n",
              "                         'min_samples_leaf': [1, 2, 3, 4, 5],\n",
              "                         'n_estimators': [10, 15, 20, 25, 30, 35]},\n",
              "             scoring=make_scorer(f1_score, average=weighted))"
            ]
          },
          "metadata": {},
          "execution_count": 63
        }
      ]
    },
    {
      "cell_type": "code",
      "source": [
        "grid_search.best_params_"
      ],
      "metadata": {
        "id": "rSuLMdRtZ3Ut",
        "colab": {
          "base_uri": "https://localhost:8080/"
        },
        "outputId": "6c6bf7e8-b75f-4a9a-d604-fb49f1189005"
      },
      "execution_count": 64,
      "outputs": [
        {
          "output_type": "execute_result",
          "data": {
            "text/plain": [
              "{'max_depth': 15, 'min_samples_leaf': 1, 'n_estimators': 35}"
            ]
          },
          "metadata": {},
          "execution_count": 64
        }
      ]
    },
    {
      "cell_type": "code",
      "source": [
        "model = RandomForestClassifier(n_estimators = 35, max_depth = 15, min_samples_leaf = 1)\n",
        "model.fit(train_features, train_labels)"
      ],
      "metadata": {
        "colab": {
          "base_uri": "https://localhost:8080/"
        },
        "id": "hBofbC37Z6JO",
        "outputId": "8d4d267b-1b07-403c-a06e-89be74d328f7"
      },
      "execution_count": 65,
      "outputs": [
        {
          "output_type": "execute_result",
          "data": {
            "text/plain": [
              "RandomForestClassifier(max_depth=15, n_estimators=35)"
            ]
          },
          "metadata": {},
          "execution_count": 65
        }
      ]
    },
    {
      "cell_type": "code",
      "source": [
        "def classification_task(estimator, features, labels):\n",
        "    \"\"\"\n",
        "    Evaluates classification by predicting (\"predict\") and evaluation (\"score\") of the modelling alogirthm.\n",
        "    \n",
        "    Arguments: \n",
        "        Estimator, features (X) and labels (y).\n",
        "    \n",
        "    Returns: \n",
        "        Model's performance measured in terms of accuracy and f1_score.\n",
        "    \"\"\"\n",
        "    predictions = estimator.predict(features)\n",
        "    \n",
        "    print(f\"Accuracy: {accuracy_score(labels, predictions)}\")\n",
        "    print(f\"F1 score: {f1_score(labels, predictions, average = 'weighted')}\")"
      ],
      "metadata": {
        "id": "Vi_-KeSLZ9aP"
      },
      "execution_count": 66,
      "outputs": []
    },
    {
      "cell_type": "code",
      "source": [
        "classification_task(model, train_features, train_labels)"
      ],
      "metadata": {
        "colab": {
          "base_uri": "https://localhost:8080/"
        },
        "id": "V-R0W53maBLC",
        "outputId": "f1670eb0-32e5-4b29-9cfe-9c466fd95a60"
      },
      "execution_count": 67,
      "outputs": [
        {
          "output_type": "stream",
          "name": "stdout",
          "text": [
            "Accuracy: 1.0\n",
            "F1 score: 1.0\n"
          ]
        }
      ]
    },
    {
      "cell_type": "code",
      "source": [
        "classification_task(model, val_features, val_labels)\n"
      ],
      "metadata": {
        "colab": {
          "base_uri": "https://localhost:8080/"
        },
        "id": "raJ8yv30aJZz",
        "outputId": "09a3cd7c-9594-448e-aafa-3440da01be21"
      },
      "execution_count": 68,
      "outputs": [
        {
          "output_type": "stream",
          "name": "stdout",
          "text": [
            "Accuracy: 0.8733333333333333\n",
            "F1 score: 0.8733333333333333\n"
          ]
        }
      ]
    },
    {
      "cell_type": "code",
      "source": [
        "classification_task(model, test_features, test_labels)"
      ],
      "metadata": {
        "colab": {
          "base_uri": "https://localhost:8080/"
        },
        "id": "bKpOGDGGaJby",
        "outputId": "9b578690-c9cb-43e4-f70d-67cb02ca86ca"
      },
      "execution_count": 69,
      "outputs": [
        {
          "output_type": "stream",
          "name": "stdout",
          "text": [
            "Accuracy: 0.9333333333333333\n",
            "F1 score: 0.9333214793741107\n"
          ]
        }
      ]
    },
    {
      "cell_type": "code",
      "source": [
        "print(classification_report(test_labels, model.predict(test_features)))\n",
        "\n",
        "plt.figure(figsize = (8, 6))\n",
        "sns.heatmap(confusion_matrix(test_labels, model.predict(test_features)),\n",
        "    annot = True,\n",
        "    fmt = \".0f\",\n",
        "    cmap = \"vlag\",\n",
        "    linewidths = 2,\n",
        "    linecolor = \"red\",\n",
        "    xticklabels = model.classes_,\n",
        "    yticklabels = model.classes_)\n",
        "plt.title(\"Actual values\")\n",
        "plt.ylabel(\"Predicted values\")\n",
        "plt.tight_layout()\n",
        "plt.show()"
      ],
      "metadata": {
        "colab": {
          "base_uri": "https://localhost:8080/",
          "height": 597
        },
        "id": "zLI_ieRdaOlG",
        "outputId": "d482a32f-64a5-4dd8-db41-b51215b9553b"
      },
      "execution_count": 70,
      "outputs": [
        {
          "output_type": "stream",
          "name": "stdout",
          "text": [
            "              precision    recall  f1-score   support\n",
            "\n",
            "       False       0.95      0.92      0.93       150\n",
            "        True       0.92      0.95      0.93       150\n",
            "\n",
            "    accuracy                           0.93       300\n",
            "   macro avg       0.93      0.93      0.93       300\n",
            "weighted avg       0.93      0.93      0.93       300\n",
            "\n"
          ]
        },
        {
          "output_type": "display_data",
          "data": {
            "text/plain": [
              "<Figure size 576x432 with 2 Axes>"
            ],
            "image/png": "[encoded data removed]"
          },
          "metadata": {
            "needs_background": "light"
          }
        }
      ]
    },
    {
      "cell_type": "markdown",
      "source": [
        "**Random Forest using RSA**"
      ],
      "metadata": {
        "id": "uaSHMxmuaR3p"
      }
    },
    {
      "cell_type": "code",
      "source": [
        "model = RandomForestClassifier(n_estimators = 3969, max_depth = 5085, min_samples_leaf = 222)\n",
        "model.fit(train_features, train_labels)"
      ],
      "metadata": {
        "colab": {
          "base_uri": "https://localhost:8080/"
        },
        "id": "QuXneDjiaWsX",
        "outputId": "e754cc5c-910e-4590-be8e-339ec1905c8b"
      },
      "execution_count": 83,
      "outputs": [
        {
          "output_type": "execute_result",
          "data": {
            "text/plain": [
              "RandomForestClassifier(max_depth=5085, min_samples_leaf=222, n_estimators=3969)"
            ]
          },
          "metadata": {},
          "execution_count": 83
        }
      ]
    },
    {
      "cell_type": "code",
      "source": [
        "def classification_task(estimator, features, labels):\n",
        "    \"\"\"\n",
        "    Evaluates classification by predicting (\"predict\") and evaluation (\"score\") of the modelling alogirthm.\n",
        "    \n",
        "    Arguments: \n",
        "        Estimator, features (X) and labels (y).\n",
        "    \n",
        "    Returns: \n",
        "        Model's performance measured in terms of accuracy and f1_score.\n",
        "    \"\"\"\n",
        "    predictions = estimator.predict(features)\n",
        "    \n",
        "    print(f\"Accuracy: {accuracy_score(labels, predictions)}\")\n",
        "    print(f\"F1 score: {f1_score(labels, predictions, average = 'weighted')}\")"
      ],
      "metadata": {
        "id": "_KXPJncTaZMt"
      },
      "execution_count": 84,
      "outputs": []
    },
    {
      "cell_type": "code",
      "source": [
        "classification_task(model, train_features, train_labels)"
      ],
      "metadata": {
        "colab": {
          "base_uri": "https://localhost:8080/"
        },
        "id": "zC3V7l-FabCU",
        "outputId": "4a32c7e7-96bf-4e2a-96e8-da4bdba013dc"
      },
      "execution_count": 85,
      "outputs": [
        {
          "output_type": "stream",
          "name": "stdout",
          "text": [
            "Accuracy: 0.5025\n",
            "F1 score: 0.3361148086522462\n"
          ]
        }
      ]
    },
    {
      "cell_type": "code",
      "source": [
        "classification_task(model, val_features, val_labels)"
      ],
      "metadata": {
        "colab": {
          "base_uri": "https://localhost:8080/"
        },
        "id": "BdbfsBqoadkD",
        "outputId": "2abd8fa2-cf2b-4b09-d193-5e19c1b1db69"
      },
      "execution_count": 86,
      "outputs": [
        {
          "output_type": "stream",
          "name": "stdout",
          "text": [
            "Accuracy: 0.5\n",
            "F1 score: 0.3333333333333333\n"
          ]
        }
      ]
    },
    {
      "cell_type": "code",
      "source": [
        "classification_task(model, test_features, test_labels)"
      ],
      "metadata": {
        "colab": {
          "base_uri": "https://localhost:8080/"
        },
        "id": "NvY6upyJafWh",
        "outputId": "d0abb7b0-f184-40bd-bc04-670e1fd66d3a"
      },
      "execution_count": 87,
      "outputs": [
        {
          "output_type": "stream",
          "name": "stdout",
          "text": [
            "Accuracy: 0.5\n",
            "F1 score: 0.3333333333333333\n"
          ]
        }
      ]
    },
    {
      "cell_type": "code",
      "source": [
        "print(classification_report(test_labels, model.predict(test_features)))\n",
        "\n",
        "plt.figure(figsize = (8, 6))\n",
        "sns.heatmap(confusion_matrix(test_labels, model.predict(test_features)),\n",
        "    annot = True,\n",
        "    fmt = \".0f\",\n",
        "    cmap = \"vlag\",\n",
        "    linewidths = 2,\n",
        "    linecolor = \"red\",\n",
        "    xticklabels = model.classes_,\n",
        "    yticklabels = model.classes_)\n",
        "plt.title(\"Actual values\")\n",
        "plt.ylabel(\"Predicted values\")\n",
        "plt.tight_layout()\n",
        "plt.show()"
      ],
      "metadata": {
        "colab": {
          "base_uri": "https://localhost:8080/",
          "height": 597
        },
        "id": "_sWULJCrahDm",
        "outputId": "ddb9c21a-4361-49f0-ab2d-394170a62f72"
      },
      "execution_count": 88,
      "outputs": [
        {
          "output_type": "stream",
          "name": "stdout",
          "text": [
            "              precision    recall  f1-score   support\n",
            "\n",
            "       False       0.00      0.00      0.00       150\n",
            "        True       0.50      1.00      0.67       150\n",
            "\n",
            "    accuracy                           0.50       300\n",
            "   macro avg       0.25      0.50      0.33       300\n",
            "weighted avg       0.25      0.50      0.33       300\n",
            "\n"
          ]
        },
        {
          "output_type": "display_data",
          "data": {
            "text/plain": [
              "<Figure size 576x432 with 2 Axes>"
            ],
            "image/png": "[encoded data removed]"
          },
          "metadata": {
            "needs_background": "light"
          }
        }
      ]
    },
    {
      "cell_type": "markdown",
      "source": [
        "**SVM**"
      ],
      "metadata": {
        "id": "3TzsWxOIakod"
      }
    },
    {
      "cell_type": "code",
      "source": [
        "svc =  SVC(kernel='rbf', C=3 , gamma= 0.0001)\n",
        "svc.fit(train_features, train_labels)\n",
        "svc_predicted = svc.predict(test_features)\n",
        "svc_conf_matrix = confusion_matrix(test_labels, svc_predicted)\n",
        "\n",
        "\n",
        "\n",
        "svc_acc_score = accuracy_score(test_labels, svc_predicted)\n",
        "\n",
        "print(\"\\n\")\n",
        "print(\"Accuracy of Support Vector Classifier:\",svc_acc_score*100,'\\n')\n",
        "print(classification_report(test_labels,svc_predicted))\n",
        "\n",
        "\n",
        "\n",
        "fig, ax = plt.subplots(figsize=(7.5, 7.5))\n",
        "ax.matshow(svc_conf_matrix, cmap=plt.cm.Blues, alpha=0.3)\n",
        "for i in range(svc_conf_matrix.shape[0]):\n",
        "    for j in range(svc_conf_matrix.shape[1]):\n",
        "        ax.text(x=j, y=i,s=svc_conf_matrix[i, j], va='center', ha='center', size='xx-large')\n",
        " \n",
        "plt.xlabel('Predictions', fontsize=18)\n",
        "plt.ylabel('Actuals', fontsize=18)\n",
        "plt.title('Confusion Matrix', fontsize=18)\n",
        "plt.show()"
      ],
      "metadata": {
        "colab": {
          "base_uri": "https://localhost:8080/",
          "height": 727
        },
        "id": "ZHCKRbm7anbB",
        "outputId": "3188e21d-4685-44d1-a954-8acd08d0d479"
      },
      "execution_count": 99,
      "outputs": [
        {
          "output_type": "stream",
          "name": "stdout",
          "text": [
            "\n",
            "\n",
            "Accuracy of Support Vector Classifier: 55.333333333333336 \n",
            "\n",
            "              precision    recall  f1-score   support\n",
            "\n",
            "       False       1.00      0.11      0.19       150\n",
            "        True       0.53      1.00      0.69       150\n",
            "\n",
            "    accuracy                           0.55       300\n",
            "   macro avg       0.76      0.55      0.44       300\n",
            "weighted avg       0.76      0.55      0.44       300\n",
            "\n"
          ]
        },
        {
          "output_type": "display_data",
          "data": {
            "text/plain": [
              "<Figure size 540x540 with 1 Axes>"
            ],
            "image/png": "[encoded data removed]"
          },
          "metadata": {
            "needs_background": "light"
          }
        }
      ]
    },
    {
      "cell_type": "code",
      "source": [
        "svc =  SVC(kernel='rbf', C=1.9 , gamma=1.0009)\n",
        "svc.fit(train_features, train_labels)\n",
        "svc_predicted = svc.predict(test_features)\n",
        "svc_conf_matrix = confusion_matrix(test_labels, svc_predicted)\n",
        "\n",
        "\n",
        "\n",
        "svc_acc_score = accuracy_score(test_labels, svc_predicted)\n",
        "\n",
        "print(\"\\n\")\n",
        "print(\"Accuracy of Support Vector Classifier:\",svc_acc_score*100,'\\n')\n",
        "print(classification_report(test_labels,svc_predicted))\n",
        "\n",
        "fig, ax = plt.subplots(figsize=(7.5, 7.5))\n",
        "ax.matshow(svc_conf_matrix, cmap=plt.cm.Blues, alpha=0.3)\n",
        "for i in range(svc_conf_matrix.shape[0]):\n",
        "    for j in range(svc_conf_matrix.shape[1]):\n",
        "        ax.text(x=j, y=i,s=svc_conf_matrix[i, j], va='center', ha='center', size='xx-large')\n",
        " \n",
        "plt.xlabel('Predictions', fontsize=18)\n",
        "plt.ylabel('Actuals', fontsize=18)\n",
        "plt.title('Confusion Matrix', fontsize=18)\n",
        "plt.show()\n"
      ],
      "metadata": {
        "colab": {
          "base_uri": "https://localhost:8080/",
          "height": 727
        },
        "id": "TcN1t7xway5o",
        "outputId": "5b5d5d02-7f42-4c80-e903-705276d13014"
      },
      "execution_count": 98,
      "outputs": [
        {
          "output_type": "stream",
          "name": "stdout",
          "text": [
            "\n",
            "\n",
            "Accuracy of Support Vector Classifier: 83.66666666666667 \n",
            "\n",
            "              precision    recall  f1-score   support\n",
            "\n",
            "       False       0.84      0.83      0.84       150\n",
            "        True       0.83      0.84      0.84       150\n",
            "\n",
            "    accuracy                           0.84       300\n",
            "   macro avg       0.84      0.84      0.84       300\n",
            "weighted avg       0.84      0.84      0.84       300\n",
            "\n"
          ]
        },
        {
          "output_type": "display_data",
          "data": {
            "text/plain": [
              "<Figure size 540x540 with 1 Axes>"
            ],
            "image/png": "[encoded data removed]"
          },
          "metadata": {
            "needs_background": "light"
          }
        }
      ]
    }
  ]
}